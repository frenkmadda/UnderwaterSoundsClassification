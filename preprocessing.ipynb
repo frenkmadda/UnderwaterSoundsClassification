{
 "cells": [
  {
   "metadata": {
    "ExecuteTime": {
     "end_time": "2024-06-06T08:24:56.777826Z",
     "start_time": "2024-06-06T08:24:52.651615Z"
    }
   },
   "cell_type": "code",
   "source": [
    "import numpy as np\n",
    "import utils \n",
    "import librosa\n",
    "import soundfile as sf\n",
    "import os"
   ],
   "id": "fe8cf44514c3ac73",
   "outputs": [],
   "execution_count": 2
  },
  {
   "metadata": {},
   "cell_type": "markdown",
   "source": [
    "# Resampling \n",
    "### Resampling fatto a 192Khz in una nuova cartella mantenendo la struttura del dataset originale \n",
    "Vanno copiato i file di metadata nella nuova cartella?"
   ],
   "id": "68f17d0ce4778edb"
  },
  {
   "metadata": {},
   "cell_type": "code",
   "source": [
    "import librosa\n",
    "import soundfile as sf\n",
    "import os\n",
    "\n",
    "def resample_audio_files(audio_files, target_sr, output_dir='resampled'):\n",
    "    # Crea la directory di output se non esiste\n",
    "    if not os.path.exists(output_dir):\n",
    "        os.makedirs(output_dir)\n",
    "\n",
    "    for file in audio_files:\n",
    "        # Carica il file audio\n",
    "        y, sr = librosa.load(file, sr=None, mono=True)\n",
    "\n",
    "        # Fai il resampling del segnale audio alla nuova frequenza di campionamento\n",
    "        y_resampled = librosa.resample(y, orig_sr=sr, target_sr=target_sr)\n",
    "\n",
    "        # Ottieni il percorso relativo del file\n",
    "        relative_path = os.path.relpath(file, 'Dataset')\n",
    "\n",
    "        # Crea la directory di output corrispondente se non esiste\n",
    "        output_subdir = os.path.join(output_dir, os.path.dirname(relative_path))\n",
    "        if not os.path.exists(output_subdir):\n",
    "            os.makedirs(output_subdir)\n",
    "\n",
    "        # Ottieni il nome del file senza l'estensione\n",
    "        base_name = os.path.splitext(os.path.basename(file))[0]\n",
    "\n",
    "        # Salva il segnale audio resampled nella directory di output come file WAV\n",
    "        output_file = os.path.join(output_subdir, f'{base_name}_resampled.wav')\n",
    "        sf.write(output_file, y_resampled, target_sr)"
   ],
   "id": "initial_id",
   "outputs": [],
   "execution_count": null
  },
  {
   "metadata": {
    "ExecuteTime": {
     "end_time": "2024-06-05T10:07:20.914261Z",
     "start_time": "2024-06-05T10:07:20.900200Z"
    }
   },
   "cell_type": "code",
   "source": [
    "def resample_and_split_audio_files(audio_files, target_sr, split_duration, output_dir='resampled'):\n",
    "    # Crea la directory di output se non esiste\n",
    "    if not os.path.exists(output_dir):\n",
    "        os.makedirs(output_dir)\n",
    "\n",
    "    for file in audio_files:\n",
    "        # Carica il file audio\n",
    "        y, sr = librosa.load(file, sr=None, mono=True)\n",
    "\n",
    "        # Fai il resampling del segnale audio alla nuova frequenza di campionamento\n",
    "        y_resampled = librosa.resample(y, orig_sr=sr, target_sr=target_sr)\n",
    "\n",
    "        # Ottieni il percorso relativo del file\n",
    "        relative_path = os.path.relpath(file, 'Dataset')\n",
    "\n",
    "        # Crea la directory di output corrispondente se non esiste\n",
    "        output_subdir = os.path.join(output_dir, os.path.dirname(relative_path))\n",
    "        if not os.path.exists(output_subdir):\n",
    "            os.makedirs(output_subdir)\n",
    "\n",
    "        # Ottieni il nome del file senza l'estensione\n",
    "        base_name = os.path.splitext(os.path.basename(file))[0]\n",
    "\n",
    "        # Dividi l'audio in frame di lunghezza split_duration\n",
    "        frame_length = int(split_duration * target_sr)  # Calcola la lunghezza del frame in campioni\n",
    "\n",
    "        # Loop per creare frame della lunghezza corretta\n",
    "        for i in range(0, len(y_resampled), frame_length):\n",
    "            frame = y_resampled[i:i+frame_length]\n",
    "\n",
    "            # Se il frame non è della lunghezza corretta, aggiungi silenzio alla fine\n",
    "            if len(frame) < frame_length:\n",
    "                frame = np.pad(frame, (0, frame_length - len(frame)))\n",
    "\n",
    "            # Salva il frame come file WAV separato\n",
    "            output_file = os.path.join(output_subdir, f'{base_name}_resampled_{i // frame_length}.wav')\n",
    "            sf.write(output_file, frame, target_sr)\n"
   ],
   "id": "68bbd3e0ec942428",
   "outputs": [],
   "execution_count": 16
  },
  {
   "metadata": {},
   "cell_type": "code",
   "source": [
    "# Ottieni la lista dei file audio\n",
    "audio_files_resampled = utils.get_audio_files('Dataset/df_paths.csv')\n",
    "\n",
    "# Fai il resampling di tutti i file audio a 192kHz\n",
    "# resample_audio_files(audio_files_resampled, 192000)\n",
    "resample_and_split_audio_files(audio_files_resampled, 192000, 3, output_dir='resampled')"
   ],
   "id": "5eca73388ee9a42c",
   "outputs": [],
   "execution_count": null
  },
  {
   "metadata": {
    "ExecuteTime": {
     "end_time": "2024-06-06T08:25:20.608257Z",
     "start_time": "2024-06-06T08:25:20.333757Z"
    }
   },
   "cell_type": "code",
   "source": "df_paths, df_names = utils.create_dataframe_from_files(\"resampled\")",
   "id": "6375f1518f708f04",
   "outputs": [],
   "execution_count": 3
  },
  {
   "metadata": {
    "ExecuteTime": {
     "end_time": "2024-06-06T08:27:15.977800Z",
     "start_time": "2024-06-06T08:25:24.372376Z"
    }
   },
   "cell_type": "code",
   "source": [
    "#TODO: analisi per il resembling shannon Nyquist \n",
    "#TODO: da modificare --> non prendere i duplicati \n",
    "frequenciesTarget,frequenciesNonTarget = utils.get_frequencies('resampled/df_paths.csv')\n",
    "    \n",
    "min = np.min(frequenciesTarget)\n",
    "max = np.max(frequenciesTarget)\n",
    "\n",
    "print(min, max)\n",
    "\n",
    "min = np.min(frequenciesNonTarget)\n",
    "max = np.max(frequenciesNonTarget)\n",
    "\n",
    "print(min, max)\n"
   ],
   "id": "c1e80a4e68d3be97",
   "outputs": [
    {
     "name": "stdout",
     "output_type": "stream",
     "text": [
      "192000 192000\n",
      "192000 192000\n"
     ]
    }
   ],
   "execution_count": 4
  },
  {
   "metadata": {
    "ExecuteTime": {
     "end_time": "2024-06-06T08:29:10.845234Z",
     "start_time": "2024-06-06T08:27:15.979422Z"
    }
   },
   "cell_type": "code",
   "source": [
    "audio_files = utils.get_audio_files('resampled/df_paths.csv')\n",
    "channels = utils.analyze_channels(audio_files)\n",
    "utils.plot_channels(channels)"
   ],
   "id": "d431a6acb445fc0f",
   "outputs": [
    {
     "name": "stdout",
     "output_type": "stream",
     "text": [
      "Files with 2 channels:\n"
     ]
    },
    {
     "data": {
      "text/plain": [
       "<Figure size 1000x600 with 1 Axes>"
      ],
      "image/png": "[encoded data removed]"
     },
     "metadata": {},
     "output_type": "display_data"
    }
   ],
   "execution_count": 5
  },
  {
   "metadata": {
    "ExecuteTime": {
     "end_time": "2024-06-06T08:29:10.857621Z",
     "start_time": "2024-06-06T08:29:10.847931Z"
    }
   },
   "cell_type": "code",
   "source": [
    "import soundfile as sf\n",
    "import matplotlib.pyplot as plt\n",
    "\n",
    "import wave\n",
    "import matplotlib.pyplot as plt\n",
    "\n",
    "\n",
    "def analyze_and_plot_bit_depth(audio_files):\n",
    "    bit_depths = []\n",
    "    countskipped= 0\n",
    "    totalChampions = 0\n",
    "    for file in audio_files:\n",
    "        if file.lower().endswith('.mp3'):  # Ignora i file .mp3\n",
    "            continue\n",
    "        try:\n",
    "            with wave.open(file, 'rb') as wf:\n",
    "                bit_depth = wf.getsampwidth() * 8  # Convert sample width to bit depth\n",
    "                bit_depths.append(bit_depth)\n",
    "                totalChampions = totalChampions + 1\n",
    "        except:\n",
    "            print(f\"Could not process file {file}\")\n",
    "            countskipped = countskipped + 1\n",
    "            continue\n",
    "\n",
    "    # Crea un plot a barre della distribuzione delle bit depth\n",
    "    plt.figure(figsize=(10, 6))\n",
    "    counts, bins, patches = plt.hist(bit_depths, bins=30, edgecolor='black')\n",
    "    plt.xlabel('Bit Depth')\n",
    "    plt.ylabel('Count')\n",
    "    plt.title('Bit Depth Distribution')\n",
    "\n",
    "    # Aggiungi il numero di campioni per ogni classe\n",
    "    bin_width = bins[1] - bins[0]  # Calculate the bin width\n",
    "\n",
    "    for count, bin, patch in zip(counts, bins, patches):\n",
    "        height = patch.get_height()\n",
    "        if count > 0:\n",
    "            plt.text(bin + bin_width/2, height * 1.01, str(int(count)), fontsize=12, ha='center')\n",
    "\n",
    "    plt.show()\n",
    "\n",
    "    #Stampa dei campioni\n",
    "    print(\"Totale skippati: \",countskipped)\n",
    "    print(\"Totale campioni analizzati: \", totalChampions)"
   ],
   "id": "1a20ee44dfd76975",
   "outputs": [],
   "execution_count": 6
  },
  {
   "metadata": {
    "ExecuteTime": {
     "end_time": "2024-06-06T08:29:23.093757Z",
     "start_time": "2024-06-06T08:29:10.860667Z"
    }
   },
   "cell_type": "code",
   "source": [
    "audio_files = utils.get_audio_files('resampled/df_paths.csv')\n",
    "analyze_and_plot_bit_depth(audio_files)"
   ],
   "id": "54a0866c0bbaa7c4",
   "outputs": [
    {
     "data": {
      "text/plain": [
       "<Figure size 1000x600 with 1 Axes>"
      ],
      "image/png": "[encoded data removed]"
     },
     "metadata": {},
     "output_type": "display_data"
    },
    {
     "name": "stdout",
     "output_type": "stream",
     "text": [
      "Totale skippati:  0\n",
      "Totale campioni analizzati:  67028\n"
     ]
    }
   ],
   "execution_count": 7
  },
  {
   "metadata": {},
   "cell_type": "code",
   "outputs": [],
   "execution_count": null,
   "source": "",
   "id": "9f471586273f6b29"
  }
 ],
 "metadata": {
  "kernelspec": {
   "display_name": "Python 3",
   "language": "python",
   "name": "python3"
  },
  "language_info": {
   "codemirror_mode": {
    "name": "ipython",
    "version": 2
   },
   "file_extension": ".py",
   "mimetype": "text/x-python",
   "name": "python",
   "nbconvert_exporter": "python",
   "pygments_lexer": "ipython2",
   "version": "2.7.6"
  }
 },
 "nbformat": 4,
 "nbformat_minor": 5
}
