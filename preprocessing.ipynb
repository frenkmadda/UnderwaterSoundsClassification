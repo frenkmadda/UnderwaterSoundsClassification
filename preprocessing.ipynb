{
 "cells": [
  {
   "metadata": {
    "ExecuteTime": {
     "end_time": "2024-06-03T17:33:07.795671Z",
     "start_time": "2024-06-03T17:33:06.803027Z"
    }
   },
   "cell_type": "code",
   "source": [
    "import numpy as np\n",
    "import utils "
   ],
   "id": "fe8cf44514c3ac73",
   "outputs": [],
   "execution_count": 1
  },
  {
   "metadata": {},
   "cell_type": "markdown",
   "source": [
    "# Resampling \n",
    "### Resampling fatto a 192Khz in una nuova cartella mantenendo la struttura del dataset originale \n",
    "Vanno copiato i file di metadata nella nuova cartella?"
   ],
   "id": "68f17d0ce4778edb"
  },
  {
   "metadata": {
    "ExecuteTime": {
     "end_time": "2024-06-03T18:01:11.726876Z",
     "start_time": "2024-06-03T17:54:52.770619Z"
    }
   },
   "cell_type": "code",
   "source": [
    "import librosa\n",
    "import soundfile as sf\n",
    "import os\n",
    "\n",
    "def resample_audio_files(audio_files, target_sr, output_dir='resampled'):\n",
    "    # Crea la directory di output se non esiste\n",
    "    if not os.path.exists(output_dir):\n",
    "        os.makedirs(output_dir)\n",
    "\n",
    "    for file in audio_files:\n",
    "        # Carica il file audio\n",
    "        y, sr = librosa.load(file, sr=None, mono=True)\n",
    "\n",
    "        # Fai il resampling del segnale audio alla nuova frequenza di campionamento\n",
    "        y_resampled = librosa.resample(y, orig_sr=sr, target_sr=target_sr)\n",
    "\n",
    "        # Ottieni il percorso relativo del file\n",
    "        relative_path = os.path.relpath(file, 'Dataset')\n",
    "\n",
    "        # Crea la directory di output corrispondente se non esiste\n",
    "        output_subdir = os.path.join(output_dir, os.path.dirname(relative_path))\n",
    "        if not os.path.exists(output_subdir):\n",
    "            os.makedirs(output_subdir)\n",
    "\n",
    "        # Ottieni il nome del file senza l'estensione\n",
    "        base_name = os.path.splitext(os.path.basename(file))[0]\n",
    "\n",
    "        # Salva il segnale audio resampled nella directory di output come file WAV\n",
    "        output_file = os.path.join(output_subdir, f'{base_name}_resampled.wav')\n",
    "        sf.write(output_file, y_resampled, target_sr)\n",
    "\n",
    "# Ottieni la lista dei file audio\n",
    "audio_files_resampled = utils.get_audio_files('Dataset/df_paths.csv')\n",
    "\n",
    "# Fai il resampling di tutti i file audio a 192kHz\n",
    "resample_audio_files(audio_files_resampled, 192000)"
   ],
   "id": "initial_id",
   "outputs": [],
   "execution_count": 3
  },
  {
   "metadata": {
    "ExecuteTime": {
     "end_time": "2024-06-03T18:01:18.928609Z",
     "start_time": "2024-06-03T18:01:18.847208Z"
    }
   },
   "cell_type": "code",
   "source": "df_paths, df_names = utils.create_dataframe_from_files(\"resampled\")",
   "id": "6375f1518f708f04",
   "outputs": [],
   "execution_count": 4
  },
  {
   "metadata": {
    "ExecuteTime": {
     "end_time": "2024-06-03T18:09:38.901535Z",
     "start_time": "2024-06-03T18:07:59.816528Z"
    }
   },
   "cell_type": "code",
   "source": [
    "#TODO: analisi per il resembling shannon Nyquist \n",
    "#TODO: da modificare --> non prendere i duplicati \n",
    "frequenciesTarget,frequenciesNonTarget = utils.get_frequencies('resampled/df_paths.csv')\n",
    "    \n",
    "min = np.min(frequenciesTarget)\n",
    "max = np.max(frequenciesTarget)\n",
    "\n",
    "print(min, max)\n",
    "\n",
    "min = np.min(frequenciesNonTarget)\n",
    "max = np.max(frequenciesNonTarget)\n",
    "\n",
    "print(min, max)\n"
   ],
   "id": "c1e80a4e68d3be97",
   "outputs": [
    {
     "name": "stdout",
     "output_type": "stream",
     "text": [
      "192000 192000\n",
      "192000 192000\n"
     ]
    }
   ],
   "execution_count": 7
  },
  {
   "metadata": {},
   "cell_type": "code",
   "outputs": [],
   "execution_count": null,
   "source": "",
   "id": "16224007c9472b39"
  }
 ],
 "metadata": {
  "kernelspec": {
   "display_name": "Python 3",
   "language": "python",
   "name": "python3"
  },
  "language_info": {
   "codemirror_mode": {
    "name": "ipython",
    "version": 2
   },
   "file_extension": ".py",
   "mimetype": "text/x-python",
   "name": "python",
   "nbconvert_exporter": "python",
   "pygments_lexer": "ipython2",
   "version": "2.7.6"
  }
 },
 "nbformat": 4,
 "nbformat_minor": 5
}
