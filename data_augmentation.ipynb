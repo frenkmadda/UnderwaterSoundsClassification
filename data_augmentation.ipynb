{
 "cells": [
  {
   "cell_type": "code",
   "id": "initial_id",
   "metadata": {
    "collapsed": true,
    "ExecuteTime": {
     "end_time": "2024-06-23T11:01:55.842406Z",
     "start_time": "2024-06-23T11:01:55.003585Z"
    }
   },
   "source": [
    "import numpy as np\n",
    "import utils \n",
    "import pandas as pd\n",
    "import os\n",
    "import matplotlib.pyplot as plt\n",
    "import librosa\n",
    "import utils\n",
    "from PIL import Image\n",
    "from tqdm import tqdm\n"
   ],
   "outputs": [],
   "execution_count": 1
  },
  {
   "metadata": {},
   "cell_type": "markdown",
   "source": [
    "## Attempt to reduce data dimensionality with Structural Similarity Index (SSIM)\n",
    "The entire code is in the file utils.py, it was not reported here because it is refered to an attempt that didn't brought to any result we wanted to keep.\n",
    "The idea was to remove all the images with an SSIM of 0.95 or higher from the classes with more than 500 elements.\n",
    "The results were not as expected, so we decided to keep all the images."
   ],
   "id": "3bc7478038e4f294"
  },
  {
   "metadata": {
    "ExecuteTime": {
     "end_time": "2024-06-22T17:01:25.622388Z",
     "start_time": "2024-06-22T17:01:25.493168Z"
    }
   },
   "cell_type": "code",
   "source": "utils.create_csv_for_folders('Spettrogrammi/Target/', 8)",
   "id": "5f05cb6ef3ef1ddc",
   "outputs": [],
   "execution_count": 2
  },
  {
   "metadata": {
    "ExecuteTime": {
     "end_time": "2024-06-22T17:01:25.675920Z",
     "start_time": "2024-06-22T17:01:25.623385Z"
    }
   },
   "cell_type": "code",
   "source": "utils.create_csv_for_folders('Spettrogrammi/Non-Target/', 8)",
   "id": "af2fa57660b1af71",
   "outputs": [],
   "execution_count": 3
  },
  {
   "metadata": {},
   "cell_type": "code",
   "source": "utils.merge_csv_files('Spettrogrammi/Target/dati ssim/SSIM', 'Spettrogrammi/Target/ssim_results.csv')",
   "id": "bef62321cb6b7af0",
   "outputs": [],
   "execution_count": null
  },
  {
   "metadata": {
    "ExecuteTime": {
     "end_time": "2024-06-22T17:01:39.797626Z",
     "start_time": "2024-06-22T17:01:39.797558Z"
    }
   },
   "cell_type": "code",
   "source": "utils.merge_csv_files('Spettrogrammi/Non-Target/dati ssim/SSIM', 'Spettrogrammi/Non-Target/ssim_results.csv')",
   "id": "f37899597f9a2b81",
   "outputs": [],
   "execution_count": null
  },
  {
   "metadata": {},
   "cell_type": "code",
   "source": [
    "df_non_target = pd.read_csv('Spettrogrammi/Non-Target/ssim_results.csv')\n",
    "pd.set_option('display.float_format', '{:.3f}'.format)\n",
    "df_non_target.describe()"
   ],
   "id": "ce834f6db4d0fd3f",
   "outputs": [],
   "execution_count": null
  },
  {
   "metadata": {},
   "cell_type": "code",
   "source": [
    "df_target = pd.read_csv('Spettrogrammi/Target/ssim_results.csv')\n",
    "pd.set_option('display.float_format', '{:.3f}'.format)\n",
    "df_target.describe()"
   ],
   "id": "a3f75c405ea93b2",
   "outputs": [],
   "execution_count": null
  },
  {
   "metadata": {},
   "cell_type": "code",
   "source": [
    "df_non_target = pd.read_csv('Spettrogrammi/Non-Target/df_paths.csv')\n",
    "df_target = pd.read_csv('Spettrogrammi/Target/df_paths.csv')\n",
    "\n",
    "df_non_target.to_csv('final_dataset/df_paths_non_target.csv', index=False)\n",
    "df_target.to_csv('final_dataset/df_paths_target.csv', index=False)"
   ],
   "id": "da620f328499072f",
   "outputs": [],
   "execution_count": null
  },
  {
   "metadata": {},
   "cell_type": "markdown",
   "source": "# Split Dataset in Train, validation e Test",
   "id": "4933a3fff07a8326"
  },
  {
   "metadata": {},
   "cell_type": "markdown",
   "source": "### Extracted the numbers of audios for each classes in order to avoid splitting the same audio in the different sets and removed the classes with less than 8 audios.",
   "id": "80ddef7a1495b63d"
  },
  {
   "metadata": {},
   "cell_type": "markdown",
   "source": "The results of the operations slightly changes if executed on MacOS or Windows because of how different OS handle the files.",
   "id": "4fc577a139dd9dd6"
  },
  {
   "metadata": {
    "ExecuteTime": {
     "end_time": "2024-06-22T17:14:05.986658Z",
     "start_time": "2024-06-22T17:14:05.919532Z"
    }
   },
   "cell_type": "code",
   "source": [
    "df_target = pd.read_csv('Spettrogrammi/Target/df_paths.csv')\n",
    "df_non_target = pd.read_csv('Spettrogrammi/Non-Target/df_paths.csv')"
   ],
   "id": "8deaf93570f90ceb",
   "outputs": [],
   "execution_count": 29
  },
  {
   "metadata": {
    "ExecuteTime": {
     "end_time": "2024-06-22T17:14:06.212416Z",
     "start_time": "2024-06-22T17:14:06.126897Z"
    }
   },
   "cell_type": "code",
   "source": [
    "utils.estrai_info_da_csv('Spettrogrammi/Target/df_paths.csv', 'Spettrogrammi/Target/df_class_num.csv')\n",
    "utils.estrai_info_da_csv('Spettrogrammi/Non-Target/df_paths.csv', 'Spettrogrammi/Non-Target/df_class_num.csv')"
   ],
   "id": "74be40225d8d8f13",
   "outputs": [],
   "execution_count": 30
  },
  {
   "metadata": {
    "ExecuteTime": {
     "end_time": "2024-06-22T17:14:06.443252Z",
     "start_time": "2024-06-22T17:14:06.310522Z"
    }
   },
   "cell_type": "code",
   "source": [
    "utils.filter_csv('Spettrogrammi/Target/df_class_num.csv', 'Spettrogrammi/Target/df_paths.csv', 'Spettrogrammi/Target/df_paths_filtered.csv')\n",
    "utils.filter_csv('Spettrogrammi/Non-Target/df_class_num.csv', 'Spettrogrammi/Non-Target/df_paths.csv', 'Spettrogrammi/Non-Target/df_paths_filtered.csv')"
   ],
   "id": "df7a96176616f033",
   "outputs": [],
   "execution_count": 31
  },
  {
   "metadata": {
    "ExecuteTime": {
     "end_time": "2024-06-22T17:14:06.601115Z",
     "start_time": "2024-06-22T17:14:06.596503Z"
    }
   },
   "cell_type": "code",
   "source": [
    "def split_files_into_sets(input_csv_path, train_csv_path, val_csv_path, test_csv_path):\n",
    "    # Imposta il seed per il generatore di numeri casuali\n",
    "    np.random.seed(0)\n",
    "\n",
    "    # Carica il file CSV in un DataFrame\n",
    "    df = pd.read_csv(input_csv_path)\n",
    "\n",
    "    # Crea una nuova colonna per il nome del file senza la parte \"_resampled\"\n",
    "    df['File'] = df['FilePath'].apply(lambda x: x.split('_resampled')[0])\n",
    "\n",
    "    # Inizializza una nuova colonna per il set\n",
    "    df['Set'] = ''\n",
    "\n",
    "    # Raggruppa per classe\n",
    "    grouped = df.groupby('Classe')\n",
    "\n",
    "    # Per ogni classe, assegna un set a ciascun file unico\n",
    "    for name, group in grouped:\n",
    "        # Ottieni un elenco di file unici\n",
    "        unique_files = group['File'].unique()\n",
    "\n",
    "        # Calcola le dimensioni dei set\n",
    "        train_size = int(0.8 * len(unique_files))\n",
    "        val_size = int(0.1 * len(unique_files))\n",
    "        test_size = len(unique_files) - train_size - val_size\n",
    "\n",
    "        # Assegna un set a ciascun file unico\n",
    "        file_sets = ['train'] * train_size + ['val'] * val_size + ['test'] * test_size\n",
    "\n",
    "        # Mescola l'elenco dei set di file\n",
    "        np.random.shuffle(file_sets)\n",
    "\n",
    "        # Crea un dizionario che mappa ciascun file al suo set\n",
    "        file_to_set = dict(zip(unique_files, file_sets))\n",
    "\n",
    "        # Assegna ogni riga al set del suo file\n",
    "        df.loc[group.index, 'Set'] = group['File'].apply(lambda x: file_to_set[x])\n",
    "\n",
    "    # Crea tre DataFrame separati per i set di addestramento, validazione e test\n",
    "    df_train = df[df['Set'] == 'train']\n",
    "    df_val = df[df['Set'] == 'val']\n",
    "    df_test = df[df['Set'] == 'test']\n",
    "\n",
    "    # Crea le cartelle di destinazione se non esistono già\n",
    "    os.makedirs(os.path.dirname(train_csv_path), exist_ok=True)\n",
    "    os.makedirs(os.path.dirname(val_csv_path), exist_ok=True)\n",
    "    os.makedirs(os.path.dirname(test_csv_path), exist_ok=True)\n",
    "\n",
    "    # Salva i DataFrame separati come nuovi CSV\n",
    "    df_train.to_csv(train_csv_path, index=False)\n",
    "    df_val.to_csv(val_csv_path, index=False)\n",
    "    df_test.to_csv(test_csv_path, index=False)"
   ],
   "id": "ea654381177c9d9a",
   "outputs": [],
   "execution_count": 32
  },
  {
   "metadata": {
    "ExecuteTime": {
     "end_time": "2024-06-22T17:14:06.936988Z",
     "start_time": "2024-06-22T17:14:06.738140Z"
    }
   },
   "cell_type": "code",
   "source": "split_files_into_sets('Spettrogrammi/Target/df_paths_filtered.csv', 'final_dataset/training/df_paths_target_train.csv', 'final_dataset/validation/df_paths_target_val.csv', 'final_dataset/test/df_paths_target_test.csv')",
   "id": "ae9b5f9d34c0df64",
   "outputs": [],
   "execution_count": 33
  },
  {
   "metadata": {
    "ExecuteTime": {
     "end_time": "2024-06-22T17:14:06.980848Z",
     "start_time": "2024-06-22T17:14:06.938185Z"
    }
   },
   "cell_type": "code",
   "source": "split_files_into_sets('Spettrogrammi/Non-Target/df_paths_filtered.csv', 'final_dataset/training/df_paths_non_target_train.csv', 'final_dataset/validation/df_paths_non_target_val.csv', 'final_dataset/test/df_paths_non_target_test.csv')",
   "id": "c344d61e486cbb3b",
   "outputs": [],
   "execution_count": 34
  },
  {
   "metadata": {},
   "cell_type": "markdown",
   "source": "### Distribuzione dei file nel training set",
   "id": "c0033897eda86da5"
  },
  {
   "metadata": {
    "ExecuteTime": {
     "end_time": "2024-06-23T11:02:18.741696Z",
     "start_time": "2024-06-23T11:02:18.659636Z"
    }
   },
   "cell_type": "code",
   "source": [
    "pd.set_option('display.max_rows', None)\n",
    "df_train_target = pd.read_csv('final_dataset/training/df_paths_target_train.csv')\n",
    "max_target = np.max(df_train_target['Classe'].value_counts())\n",
    "max_target"
   ],
   "id": "e6f67d7cfd2bf6eb",
   "outputs": [
    {
     "data": {
      "text/plain": [
       "12339"
      ]
     },
     "execution_count": 2,
     "metadata": {},
     "output_type": "execute_result"
    }
   ],
   "execution_count": 2
  },
  {
   "metadata": {
    "ExecuteTime": {
     "end_time": "2024-06-23T11:02:19.542761Z",
     "start_time": "2024-06-23T11:02:19.513490Z"
    }
   },
   "cell_type": "code",
   "source": [
    "pd.set_option('display.max_rows', None)\n",
    "df_train_non_target = pd.read_csv('final_dataset/training/df_paths_non_target_train.csv')\n",
    "max_non_target = np.max(df_train_non_target['Classe'].value_counts())\n",
    "max_non_target"
   ],
   "id": "efbf6d68b5295ff3",
   "outputs": [
    {
     "data": {
      "text/plain": [
       "1822"
      ]
     },
     "execution_count": 3,
     "metadata": {},
     "output_type": "execute_result"
    }
   ],
   "execution_count": 3
  },
  {
   "metadata": {
    "ExecuteTime": {
     "end_time": "2024-06-23T11:02:20.355934Z",
     "start_time": "2024-06-23T11:02:20.350276Z"
    }
   },
   "cell_type": "code",
   "source": "df_train_target['Classe'].value_counts()",
   "id": "808350484cc560ab",
   "outputs": [
    {
     "data": {
      "text/plain": [
       "Classe\n",
       "Tanker           12339\n",
       "Passengership    11258\n",
       "Tug              10727\n",
       "Cargo            10169\n",
       "Vessel             170\n",
       "Name: count, dtype: int64"
      ]
     },
     "execution_count": 4,
     "metadata": {},
     "output_type": "execute_result"
    }
   ],
   "execution_count": 4
  },
  {
   "metadata": {
    "ExecuteTime": {
     "end_time": "2024-06-23T11:02:20.628112Z",
     "start_time": "2024-06-23T11:02:20.620354Z"
    }
   },
   "cell_type": "code",
   "source": "df_train_non_target['Classe'].value_counts()",
   "id": "85c2ec40767e46a2",
   "outputs": [
    {
     "data": {
      "text/plain": [
       "Classe\n",
       "Sperm Whale                           1822\n",
       "Humpback Whale                        1657\n",
       "Fin, Finback Whale                     818\n",
       "Soundscape                             239\n",
       "Fraser_s Dolphin                       224\n",
       "Long-Finned Pilot Whale                191\n",
       "Short-Finned (Pacific) Pilot Whale     177\n",
       "Grampus, Risso_s Dolphin               139\n",
       "Killer Whale                           133\n",
       "Spinner Dolphin                        129\n",
       "Striped Dolphin                        128\n",
       "Common Dolphin                         111\n",
       "Bowhead Whale                          107\n",
       "Melon Headed Whale                      85\n",
       "Walrus                                  77\n",
       "Bearded Seal                            75\n",
       "Atlantic Spotted Dolphin                71\n",
       "White-sided Dolphin                     70\n",
       "Harp Seal                               69\n",
       "Ross Seal                               69\n",
       "Clymene Dolphin                         68\n",
       "Pantropical Spotted Dolphin             67\n",
       "Beluga, White Whale                     65\n",
       "Northern Right Whale                    65\n",
       "White-beaked Dolphin                    57\n",
       "False Killer Whale                      55\n",
       "Odontocete                              47\n",
       "Narwhal                                 43\n",
       "Minke Whale                             43\n",
       "Rough-Toothed Dolphin                   40\n",
       "Southern Right Whale                    27\n",
       "Leopard Seal                            26\n",
       "Bottlenose Dolphin                      22\n",
       "Name: count, dtype: int64"
      ]
     },
     "execution_count": 5,
     "metadata": {},
     "output_type": "execute_result"
    }
   ],
   "execution_count": 5
  },
  {
   "metadata": {},
   "cell_type": "markdown",
   "source": "## Data Augmentation",
   "id": "3a39ffce09c9e0fc"
  },
  {
   "metadata": {
    "ExecuteTime": {
     "end_time": "2024-06-23T11:02:23.962159Z",
     "start_time": "2024-06-23T11:02:23.942079Z"
    }
   },
   "cell_type": "code",
   "source": [
    "import os\n",
    "import numpy as np\n",
    "import pandas as pd\n",
    "from PIL import Image\n",
    "from tqdm import tqdm\n",
    "\n",
    "def load_spectrogram(image_path):\n",
    "    image = Image.open(image_path)\n",
    "    spectrogram = np.array(image) / 255 # Normalizza i valori a 0-1\n",
    "    return spectrogram, image.mode\n",
    "\n",
    "def time_shift_spectrogram(image_path, output_path, i, duration = 3):\n",
    "    \"\"\"\n",
    "    Perform a time shift on a spectrogram image.\n",
    "\n",
    "    Parameters:\n",
    "    - image_path (str): Path to the input spectrogram image.\n",
    "    - duration (int): Duration of the audio in seconds.\n",
    "    - shift_seconds (int): Number of seconds to shift.\n",
    "    - output_path (str): Path to save the shifted spectrogram image.\n",
    "    \"\"\"\n",
    "    # Load the image\n",
    "    image = Image.open(image_path)\n",
    "    \n",
    "    # Convert the image to a NumPy array, preserving all four channels (RGBA)\n",
    "    image_array = np.array(image, dtype=np.uint8)\n",
    "    \n",
    "    shift_seconds = [0.08, 0.16, 0.24, 0.32, 0.40, 0.48, 0.56, 0.64, 0.72, \n",
    "                     0.80, 0.88, 0.96, 1.04, 1.12, 1.20, 1.28, 1.36, 1.44, 1.52]\n",
    "    \n",
    "    # Calculate the number of pixels corresponding to the shift_seconds\n",
    "    width = image_array.shape[1]\n",
    "    pixels_per_second = width // duration\n",
    "    shift_pixels = int(pixels_per_second * shift_seconds[i])\n",
    "    \n",
    "    # Create a new array to hold the time-shifted spectrogram\n",
    "    shifted_image_array = np.zeros_like(image_array, dtype=np.uint8)\n",
    "    \n",
    "    # Shift the image by the calculated number of pixels to the right\n",
    "    shifted_image_array[:, shift_pixels:] = image_array[:, :-shift_pixels]\n",
    "    \n",
    "    # Create a \"silence\" array for the shifted part filled with black pixels\n",
    "    silence = np.zeros((image_array.shape[0], shift_pixels, image_array.shape[2]), dtype=np.uint8)\n",
    "    silence[:, :, 3] = 255  # Set the alpha channel to 255 for full opacity\n",
    "    \n",
    "    # Apply the silence to the beginning of the shifted image\n",
    "    shifted_image_array[:, :shift_pixels] = silence\n",
    "    \n",
    "    # Convert the shifted array back to an image\n",
    "    shifted_image = Image.fromarray(shifted_image_array)\n",
    "    \n",
    "    # Save the shifted image\n",
    "    shifted_image.save(output_path)\n",
    "    \n",
    "    \n",
    "def add_white_noise(spectrogram, mode, save_path, i):\n",
    "    noise_factor = [0.0011, 0.0012, 0.0013, 0.0014, 0.0015, 0.0016, 0.0017, 0.0018, 0.0019, 0.0020, \n",
    "                    0.0021, 0.0022, 0.0023, 0.0024, 0.0025, 0.0026, 0.0027, 0.0028, 0.0029]\n",
    "    \n",
    "    # for noise_factor in noise_factor:\n",
    "    noise = np.random.randn(*spectrogram.shape) * noise_factor[i] # Modificare sta riga se necessario per avere più opzioni di rumore (ad esempio fare /2, ecc....)\n",
    "    augmented_spectrogram = spectrogram + noise\n",
    "    np.clip(augmented_spectrogram, 0, 1)  # Clippa i valori tra 0 e 1\n",
    "    \n",
    "    augmented_spectrogram = (augmented_spectrogram * 255).astype(np.uint8)  # Converti i valori a 0-255\n",
    "    image = Image.fromarray(augmented_spectrogram, mode)  # Converti in immagine mantenendo il mode originale\n",
    "    image.save(save_path)\n",
    "\n",
    "# def augment_spectrogram(image_path, save_dir, width_spectogram=930, shift_seconds=1.0):\n",
    "#     \n",
    "#     # Carica lo spettrogramma originale\n",
    "#     spectrogram, mode = load_spectrogram(image_path)\n",
    "# \n",
    "#     # Calcola la quantità di shift in pixel\n",
    "#     shift_pixels = int(shift_seconds * width_spectogram/3)\n",
    "# \n",
    "#     # Applica il time-shift\n",
    "#     # shifted_spectrogram = time_shift_spectrogram(spectrogram, shift_pixels)\n",
    "#     shifted_image_path = os.path.join(save_dir, f'shifted_{os.path.basename(image_path)}')\n",
    "#     time_shift_spectrogram(image_path, shifted_image_path)\n",
    "#     \n",
    "# \n",
    "#     # Crea la directory se non esiste\n",
    "#     os.makedirs(save_dir, exist_ok=True)\n",
    "# \n",
    "#     # Salva lo spettrogramma shiftato\n",
    "#     # save_spectrogram(shifted_spectrogram, shifted_image_path, mode)\n",
    "# \n",
    "#     # Applica il white noise\n",
    "#     noisy_image_path = os.path.join(save_dir, f'noisy_{os.path.basename(image_path)}')\n",
    "#     add_white_noise(spectrogram, mode, noisy_image_path)\n",
    "# \n",
    "# \n",
    "#     # Salva lo spettrogramma con il rumore\n",
    "#     # save_spectrogram(noisy_spectrogram, noisy_image_path, mode)\n",
    "# \n",
    "#     return shifted_image_path, noisy_image_path\n",
    "\n",
    "def time_shift(image_path, save_dir, i):\n",
    "    # shift_seconds = [1.0, 0.5, 0.75, 0.25][np.random.randint(1)]\n",
    "    # Carica lo spettrogramma originale\n",
    "    # spectrogram, mode = load_spectrogram(image_path)\n",
    "\n",
    "    # Calcola la quantità di shift in pixel\n",
    "    # shift_pixels = int(shift_seconds * width_spectogram / 3)\n",
    "\n",
    "    # Applica il time-shift\n",
    "    # shifted_spectrogram = time_shift_spectrogram(spectrogram, shift_pixels)\n",
    "    shifted_image_path = os.path.join(save_dir, f'shifted_{i}_{os.path.basename(image_path)}')\n",
    "    time_shift_spectrogram(image_path, shifted_image_path, i)\n",
    "\n",
    "    # Crea la directory se non esiste\n",
    "    os.makedirs(save_dir, exist_ok=True)\n",
    "\n",
    "    # Salva lo spettrogramma shiftato\n",
    "    # save_spectrogram(shifted_spectrogram, shifted_image_path, mode)\n",
    "\n",
    "    # return shifted_image_path\n",
    "\n",
    "def white_noise(image_path, save_dir, i):\n",
    "    # Carica lo spettrogramma originale\n",
    "    spectrogram, mode = load_spectrogram(image_path)\n",
    "\n",
    "    # Applica il white noise\n",
    "    noisy_image_path = os.path.join(save_dir, f'noisy_{i}_{os.path.basename(image_path)}')\n",
    "    add_white_noise(spectrogram, mode, noisy_image_path, i)\n",
    "\n",
    "    # Crea la directory se non esiste\n",
    "    os.makedirs(save_dir, exist_ok=True)\n",
    "\n",
    "    # Salva lo spettrogramma con il rumore\n",
    "    # save_spectrogram(noisy_spectrogram, noisy_image_path, mode)\n",
    "\n",
    "    # return noisy_image_path\n",
    "\n",
    "def increase_and_decrease_volume(spectrogram, save_path, mode, i, type):\n",
    "    if type == 'i':\n",
    "        volume_factor = [1.1, 1.15, 1.2, 1.25, 1.3, 1.35, 1.4, 1.45, 1.5, 1.55, 1.6, 1.65, 1.7, 1.75, 1.8, 1.85, 1.9, 1.95, 2]\n",
    "    else: # type == 'd'\n",
    "        volume_factor = [0.1, 0.125, 0.15, 0.2, 0.25, 0.3, 0.35, 0.4, 0.45, 0.5, 0.55, 0.6, 0.65, 0.7, 0.75, 0.8, 0.85, 0.9, 0.95]\n",
    "        \n",
    "    # Aumenta il volume solo sui canali RGB, lasciando il canale alpha invariato\n",
    "    spectrogram[..., :3] *= volume_factor[i]\n",
    "\n",
    "    # Clippa i valori tra 0 e 255\n",
    "    spectrogram = np.clip(spectrogram, 0, 255)\n",
    "\n",
    "    # Salva lo spettrogramma modificato\n",
    "    amplified_image = Image.fromarray(spectrogram.astype(np.uint8), mode)\n",
    "    amplified_image.save(save_path)\n",
    "    \n",
    "def increase_and_decrease(image_path, save_dir, i, type):\n",
    "    image = Image.open(image_path)\n",
    "    spectrogram = np.array(image).astype(np.float32)\n",
    "    mode = image.mode\n",
    "    \n",
    "    if type == 'i':\n",
    "        increase_image_path = os.path.join(save_dir, f'increase_{i}_{os.path.basename(image_path)}')\n",
    "    else: # type == 'd'\n",
    "        increase_image_path = os.path.join(save_dir, f'decrease_{i}_{os.path.basename(image_path)}')\n",
    "        \n",
    "    increase_and_decrease_volume(spectrogram, increase_image_path, mode, i, type)\n",
    "    \n",
    "    os.makedirs(save_dir, exist_ok=True)\n",
    "    \n",
    "\n",
    "def process_csv(csv_path, save_dir, value_counts):\n",
    "    df = pd.read_csv(csv_path)\n",
    "    max = np.max(value_counts)\n",
    "    isDone = False\n",
    "    i = 0\n",
    "    \n",
    "    while not isDone:\n",
    "        for index, row in tqdm(df.iterrows(), total=df.shape[0], desc=\"Processing images\"):\n",
    "            image_path = row.iloc[0]\n",
    "            \n",
    "            # Estrai le parti desiderate del percorso dell'immagine\n",
    "            parts = image_path.split('/')\n",
    "            relevant_parts = parts[1:-1]  # Modifica questo se necessario per selezionare le parti desiderate\n",
    "    \n",
    "            # Crea il percorso di destinazione\n",
    "            destination_dir = os.path.join(save_dir, *relevant_parts[:-1])\n",
    "            destination_path = os.path.join(destination_dir, relevant_parts[-1])\n",
    "            \n",
    "            # Crea la directory di destinazione se non esiste già\n",
    "            os.makedirs(destination_path, exist_ok=True)\n",
    "            \n",
    "            \n",
    "            if value_counts.loc[parts[2]] <= max:\n",
    "                time_shift(image_path, destination_path, i)\n",
    "                value_counts.loc[parts[2]] = value_counts.loc[parts[2]] + 1\n",
    "                \n",
    "                if value_counts.loc[parts[2]] <= max:\n",
    "                    white_noise(image_path, destination_path, i)\n",
    "                    value_counts.loc[parts[2]] = value_counts.loc[parts[2]] + 1\n",
    "                    \n",
    "                if value_counts.loc[parts[2]] <= max:\n",
    "                    increase_and_decrease(image_path, destination_path, i,  'i')\n",
    "                    value_counts.loc[parts[2]] = value_counts.loc[parts[2]] + 1\n",
    "                    \n",
    "                if value_counts.loc[parts[2]] <= max:\n",
    "                    increase_and_decrease(image_path, destination_path, i, 'd')\n",
    "                    value_counts.loc[parts[2]] = value_counts.loc[parts[2]] + 1\n",
    "                else:\n",
    "                    isDone = True\n",
    "                    break\n",
    "                \n",
    "                i += 1\n",
    "                if i == 19:\n",
    "                    i = 0\n",
    "            else:\n",
    "                isDone = True\n",
    "                break\n"
   ],
   "id": "56c856a780af0575",
   "outputs": [],
   "execution_count": 6
  },
  {
   "metadata": {
    "ExecuteTime": {
     "end_time": "2024-06-23T11:06:03.958001Z",
     "start_time": "2024-06-23T11:02:41.390634Z"
    }
   },
   "cell_type": "code",
   "source": "process_csv('final_dataset/training/df_paths_target_train.csv', 'final_dataset/training', df_train_target['Classe'].value_counts())",
   "id": "85b7192789ea814f",
   "outputs": [
    {
     "name": "stderr",
     "output_type": "stream",
     "text": [
      "Processing images:   1%|          | 403/44663 [03:22<6:10:37,  1.99it/s]\n"
     ]
    }
   ],
   "execution_count": 8
  },
  {
   "metadata": {},
   "cell_type": "markdown",
   "source": [
    "- bilanciare\n",
    "- pregare che funzioni"
   ],
   "id": "c5f7eeb2e0760605"
  },
  {
   "metadata": {
    "ExecuteTime": {
     "end_time": "2024-06-23T08:17:53.931174Z",
     "start_time": "2024-06-23T08:17:53.927854Z"
    }
   },
   "cell_type": "code",
   "source": [
    "# Funzione per alzare il volume dello spettrogramma\n",
    "def increase_volume(image_path, save_path, volume_increase_factor):\n",
    "    # Carica lo spettrogramma originale\n",
    "    image = Image.open(image_path)\n",
    "    spectrogram = np.array(image)\n",
    "\n",
    "    # Aumenta il volume\n",
    "    spectrogram = spectrogram * volume_increase_factor\n",
    "\n",
    "    # Clippa i valori tra 0 e 255\n",
    "    spectrogram = np.clip(spectrogram, 0, 255)\n",
    "\n",
    "    # Salva lo spettrogramma modificato\n",
    "    Image.fromarray(spectrogram.astype(np.uint8)).save(save_path)"
   ],
   "id": "5c2694362ba24af8",
   "outputs": [],
   "execution_count": 2
  },
  {
   "metadata": {
    "ExecuteTime": {
     "end_time": "2024-06-23T08:36:56.440145Z",
     "start_time": "2024-06-23T08:36:56.435638Z"
    }
   },
   "cell_type": "code",
   "source": [
    "def increase_volume2(spectrogram_path, save_path, volume_increase_factor):\n",
    "    # Carica lo spettrogramma originale\n",
    "    image = Image.open(spectrogram_path)\n",
    "    spectrogram = np.array(image).astype(np.float32)\n",
    "\n",
    "    # Aumenta il volume solo sui canali RGB, lasciando il canale alpha invariato\n",
    "    spectrogram[..., :3] *= volume_increase_factor\n",
    "\n",
    "    # Clippa i valori tra 0 e 255\n",
    "    spectrogram = np.clip(spectrogram, 0, 255)\n",
    "\n",
    "    # Salva lo spettrogramma modificato\n",
    "    amplified_image = Image.fromarray(spectrogram.astype(np.uint8), 'RGBA')\n",
    "    # amplified_image = Image.fromarray(spectrogram.astype(np.uint8), 'RGBA')\n",
    "    # image = Image.fromarray(amplified_image, mode)\n",
    "    amplified_image.save(save_path)"
   ],
   "id": "3f461bfbf78da98c",
   "outputs": [],
   "execution_count": 15
  },
  {
   "metadata": {
    "ExecuteTime": {
     "end_time": "2024-06-23T08:32:40.087186Z",
     "start_time": "2024-06-23T08:32:40.069477Z"
    }
   },
   "cell_type": "code",
   "source": "spectrogram, mode = load_spectrogram('Spettrogrammi/Non-Target/Ambient Noise/0f9867d8-fcf7-40d1-b846-3f7fb8100eb7_resampled_0.png')",
   "id": "e540289b21486750",
   "outputs": [],
   "execution_count": 9
  },
  {
   "metadata": {
    "ExecuteTime": {
     "end_time": "2024-06-23T08:36:58.042441Z",
     "start_time": "2024-06-23T08:36:57.974771Z"
    }
   },
   "cell_type": "code",
   "source": "increase_volume2('Spettrogrammi/Non-Target/Ambient Noise/0f9867d8-fcf7-40d1-b846-3f7fb8100eb7_resampled_0.png', 'testAudio+3.png', 1.5)",
   "id": "24a66b19ea355319",
   "outputs": [],
   "execution_count": 16
  },
  {
   "metadata": {
    "ExecuteTime": {
     "end_time": "2024-06-23T09:10:43.980126Z",
     "start_time": "2024-06-23T09:10:43.911879Z"
    }
   },
   "cell_type": "code",
   "source": [
    "def increase_and_decrease_volume(spectrogram, save_path, mode, type):\n",
    "    if type == 'i':\n",
    "        volume_factor = [1.2, 1.4, 1.6, 1.8, 2]\n",
    "    else: # type == 'd'\n",
    "        volume_factor = [0.8, 0.6, 0.4, 0.2]\n",
    "        \n",
    "    # Aumenta il volume solo sui canali RGB, lasciando il canale alpha invariato\n",
    "    spectrogram[..., :3] *= volume_factor[0]\n",
    "\n",
    "    # Clippa i valori tra 0 e 255\n",
    "    spectrogram = np.clip(spectrogram, 0, 255)\n",
    "\n",
    "    # Salva lo spettrogramma modificato\n",
    "    amplified_image = Image.fromarray(spectrogram.astype(np.uint8), mode)\n",
    "    # amplified_image = Image.fromarray(spectrogram.astype(np.uint8), 'RGBA')\n",
    "    # image = Image.fromarray(amplified_image, mode)\n",
    "    amplified_image.save(save_path)\n",
    "    \n",
    "def increase_and_decrease(image_path, save_dir, type):\n",
    "    image = Image.open(image_path)\n",
    "    spectrogram = np.array(image).astype(np.float32)\n",
    "    mode = image.mode\n",
    "    print(mode)\n",
    "    \n",
    "    if type == 'i':\n",
    "        increase_image_path = os.path.join(save_dir, f'increase_{os.path.basename(image_path)}')\n",
    "    else: # type == 'd'\n",
    "        increase_image_path = os.path.join(save_dir, f'decrease_{os.path.basename(image_path)}')\n",
    "        \n",
    "    increase_and_decrease_volume(spectrogram, increase_image_path, mode, type)\n",
    "    \n",
    "    os.makedirs(save_dir, exist_ok=True)\n",
    "    \n",
    "increase_and_decrease('Spettrogrammi/Non-Target/Ambient Noise/0f9867d8-fcf7-40d1-b846-3f7fb8100eb7_resampled_0.png', 'final_dataset/training', 'd')"
   ],
   "id": "32a32208455caa59",
   "outputs": [
    {
     "name": "stdout",
     "output_type": "stream",
     "text": [
      "RGBA\n"
     ]
    }
   ],
   "execution_count": 36
  },
  {
   "metadata": {
    "ExecuteTime": {
     "end_time": "2024-06-23T09:23:10.005777Z",
     "start_time": "2024-06-23T09:23:09.658392Z"
    }
   },
   "cell_type": "code",
   "source": [
    "def add_white_noise(spectrogram, mode, save_path):\n",
    "    # noise_factor = [0.03, 0.05, 0.07, 0.09]  # Scegli casualmente un fattore di rumore tra 0.03, 0.05 e 0.07\n",
    "    \n",
    "    noise_factor = [0.0011, 0.0012, 0.0013, 0.0014, 0.0015, 0.0016, 0.0017, 0.0018, 0.0019, 0.0020, \n",
    "                    0.0021, 0.0022, 0.0023, 0.0024, 0.0025, 0.0026, 0.0027, 0.0028, 0.0029]\n",
    "    \n",
    "    # for noise_factor in noise_factor:\n",
    "    noise = np.random.randn(*spectrogram.shape) * noise_factor # Modificare sta riga se necessario per avere più opzioni di rumore (ad esempio fare /2, ecc....)\n",
    "    augmented_spectrogram = spectrogram + noise\n",
    "    np.clip(augmented_spectrogram, 0, 1)  # Clippa i valori tra 0 e 1\n",
    "    \n",
    "    augmented_spectrogram = (augmented_spectrogram * 255).astype(np.uint8)  # Converti i valori a 0-255\n",
    "    image = Image.fromarray(augmented_spectrogram, mode)  # Converti in immagine mantenendo il mode originale\n",
    "    image.save(save_path)\n",
    "        \n",
    "def white_noise(image_path, save_dir):\n",
    "    # Carica lo spettrogramma originale\n",
    "    spectrogram, mode = load_spectrogram(image_path)\n",
    "\n",
    "    # Applica il white noise\n",
    "    noisy_image_path = os.path.join(save_dir, f'noisy_{os.path.basename(image_path)}')\n",
    "    add_white_noise(spectrogram, mode, noisy_image_path)\n",
    "\n",
    "    # Crea la directory se non esiste\n",
    "    os.makedirs(save_dir, exist_ok=True)\n",
    "\n",
    "    # Salva lo spettrogramma con il rumore\n",
    "    # save_spectrogram(noisy_spectrogram, noisy_image_path, mode)\n",
    "\n",
    "    # return noisy_image_path\n",
    "\n",
    "white_noise('Spettrogrammi/Non-Target/Ambient Noise/0f9867d8-fcf7-40d1-b846-3f7fb8100eb7_resampled_0.png', 'final_dataset/training')"
   ],
   "id": "1852599eaadc8c2d",
   "outputs": [],
   "execution_count": 45
  },
  {
   "metadata": {
    "ExecuteTime": {
     "end_time": "2024-06-23T09:39:53.145004Z",
     "start_time": "2024-06-23T09:39:53.108323Z"
    }
   },
   "cell_type": "code",
   "source": [
    "def time_shift_spectrogram(image_path, output_path, duration = 3):\n",
    "    \"\"\"\n",
    "    Perform a time shift on a spectrogram image.\n",
    "\n",
    "    Parameters:\n",
    "    - image_path (str): Path to the input spectrogram image.\n",
    "    - duration (int): Duration of the audio in seconds.\n",
    "    - shift_seconds (int): Number of seconds to shift.\n",
    "    - output_path (str): Path to save the shifted spectrogram image.\n",
    "    \"\"\"\n",
    "    # Load the image\n",
    "    image = Image.open(image_path)\n",
    "    \n",
    "    # Convert the image to a NumPy array, preserving all four channels (RGBA)\n",
    "    image_array = np.array(image, dtype=np.uint8)\n",
    "    \n",
    "    shift_seconds = 0.16\n",
    "    \n",
    "    # Calculate the number of pixels corresponding to the shift_seconds\n",
    "    width = image_array.shape[1]\n",
    "    pixels_per_second = width // duration\n",
    "    shift_pixels = int(pixels_per_second * shift_seconds)\n",
    "    \n",
    "    # Create a new array to hold the time-shifted spectrogram\n",
    "    shifted_image_array = np.zeros_like(image_array, dtype=np.uint8)\n",
    "    \n",
    "    # Shift the image by the calculated number of pixels to the right\n",
    "    shifted_image_array[:, shift_pixels:] = image_array[:, :-shift_pixels]\n",
    "    \n",
    "    # Create a \"silence\" array for the shifted part filled with black pixels\n",
    "    silence = np.zeros((image_array.shape[0], shift_pixels, image_array.shape[2]), dtype=np.uint8)\n",
    "    silence[:, :, 3] = 255  # Set the alpha channel to 255 for full opacity\n",
    "    \n",
    "    # Apply the silence to the beginning of the shifted image\n",
    "    shifted_image_array[:, :shift_pixels] = silence\n",
    "    \n",
    "    # Convert the shifted array back to an image\n",
    "    shifted_image = Image.fromarray(shifted_image_array)\n",
    "    \n",
    "    # Save the shifted image\n",
    "    shifted_image.save(output_path)\n",
    "    \n",
    "def time_shift(image_path, save_dir):\n",
    "    # shift_seconds = [1.0, 0.5, 0.75, 0.25][np.random.randint(1)]\n",
    "    # Carica lo spettrogramma originale\n",
    "    # spectrogram, mode = load_spectrogram(image_path)\n",
    "\n",
    "    # Calcola la quantità di shift in pixel\n",
    "    # shift_pixels = int(shift_seconds * width_spectogram / 3)\n",
    "\n",
    "    # Applica il time-shift\n",
    "    # shifted_spectrogram = time_shift_spectrogram(spectrogram, shift_pixels)\n",
    "    shifted_image_path = os.path.join(save_dir, f'shifted_{os.path.basename(image_path)}')\n",
    "    time_shift_spectrogram(image_path, shifted_image_path)\n",
    "\n",
    "    # Crea la directory se non esiste\n",
    "    os.makedirs(save_dir, exist_ok=True)\n",
    "\n",
    "    # Salva lo spettrogramma shiftato\n",
    "    # save_spectrogram(shifted_spectrogram, shifted_image_path, mode)\n",
    "\n",
    "    # return shifted_image_path\n",
    "    \n",
    "time_shift('Spettrogrammi/Non-Target/Fin, Finback Whale/6106400B_resampled_17.png', 'final_dataset/training')"
   ],
   "id": "9de2fe2d0225e23b",
   "outputs": [],
   "execution_count": 51
  },
  {
   "metadata": {},
   "cell_type": "code",
   "outputs": [],
   "execution_count": null,
   "source": "",
   "id": "a5ee740d48439065"
  }
 ],
 "metadata": {
  "kernelspec": {
   "display_name": "Python 3",
   "language": "python",
   "name": "python3"
  },
  "language_info": {
   "codemirror_mode": {
    "name": "ipython",
    "version": 2
   },
   "file_extension": ".py",
   "mimetype": "text/x-python",
   "name": "python",
   "nbconvert_exporter": "python",
   "pygments_lexer": "ipython2",
   "version": "2.7.6"
  }
 },
 "nbformat": 4,
 "nbformat_minor": 5
}
