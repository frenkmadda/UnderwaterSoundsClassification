{
 "cells": [
  {
   "metadata": {},
   "cell_type": "markdown",
   "source": "## Analisi distribuzione classi della cartella Spettrogrammi per riduzione della dimensionalità dei dati",
   "id": "a1734cbe3d60be06"
  },
  {
   "cell_type": "code",
   "id": "initial_id",
   "metadata": {
    "collapsed": true
   },
   "source": [
    "import numpy as np\n",
    "import utils "
   ],
   "outputs": [],
   "execution_count": null
  },
  {
   "metadata": {},
   "cell_type": "code",
   "source": [
    "df_pathsTarget, df_namesTarget = utils.create_dataframe_from_files('Spettrogrammi/Target')\n",
    "df_pathsNonTarget, df_namesNonTarget = utils.create_dataframe_from_files('Spettrogrammi/Non-Target')\n",
    "\n",
    "import os\n",
    "\n",
    "# Carica il DataFrame da df_paths.csv\n",
    "# df_paths = pd.read_csv('Dataset/df_paths.csv', header=None, names=['path'])\n",
    "\n",
    "# Crea una copia del DataFrame originale\n",
    "df_pathsTargetCopy = df_pathsTarget.copy()\n",
    "df_pathsNonTargetCopy = df_pathsNonTarget.copy()\n",
    "\n",
    "# Estrai la classe e il target dai percorsi dei file\n",
    "df_pathsTargetCopy['class'] = df_pathsTargetCopy['FilePath'].apply(lambda path: os.path.basename(os.path.dirname(path)))\n",
    "df_pathsTargetCopy['target'] = df_pathsTargetCopy['FilePath'].apply(lambda path: os.path.basename(os.path.dirname(os.path.dirname(path))))\n",
    "\n",
    "df_pathsNonTargetCopy['class'] = df_pathsNonTargetCopy['FilePath'].apply(lambda path: os.path.basename(os.path.dirname(path)))\n",
    "df_pathsNonTargetCopy['target'] = df_pathsNonTargetCopy['FilePath'].apply(lambda path: os.path.basename(os.path.dirname(os.path.dirname(path))))"
   ],
   "id": "dbf3362bf68a8aed",
   "outputs": [],
   "execution_count": null
  },
  {
   "metadata": {},
   "cell_type": "markdown",
   "source": "# Target",
   "id": "34dc6c1ddfd6a3cd"
  },
  {
   "metadata": {},
   "cell_type": "code",
   "source": "utils.plot_class_distribution_horizontal(df_pathsTargetCopy, 'class')",
   "id": "56da077e1926b232",
   "outputs": [],
   "execution_count": null
  },
  {
   "metadata": {},
   "cell_type": "code",
   "source": "",
   "id": "c2d83a971efb82b6",
   "outputs": [],
   "execution_count": null
  },
  {
   "metadata": {},
   "cell_type": "markdown",
   "source": "# Non Target",
   "id": "47cef6b6be6bc07b"
  },
  {
   "metadata": {},
   "cell_type": "code",
   "source": "utils.plot_class_distribution_horizontal(df_pathsNonTargetCopy, 'class')\n",
   "id": "7ec2a41afb4e6387",
   "outputs": [],
   "execution_count": null
  },
  {
   "metadata": {},
   "cell_type": "markdown",
   "source": "## Eliminati dal csv i path relativi a cartelle con meno di 5 file",
   "id": "3bc7478038e4f294"
  },
  {
   "metadata": {},
   "cell_type": "code",
   "source": [
    "import pandas as pd\n",
    "import os\n",
    "\n",
    "def filter_csv_by_file_count(csv_path, k, output_csv_path):\n",
    "    df = pd.read_csv(csv_path, header=None, names=['FilePath'])\n",
    "\n",
    "    df['Subfolder'] = df['FilePath'].apply(lambda path: os.path.dirname(path))\n",
    "    grouped_df = df.groupby('Subfolder').size().reset_index(name='Count')\n",
    "\n",
    "    filtered_grouped_df = grouped_df[grouped_df['Count'] >= k]\n",
    "\n",
    "    filtered_df = pd.merge(df, filtered_grouped_df, how='inner', on='Subfolder')\n",
    "\n",
    "    filtered_df = filtered_df.drop(columns=['Count', 'Subfolder'])\n",
    "\n",
    "    filtered_df.to_csv(output_csv_path, index=False, header=False)\n",
    "\n",
    "filter_csv_by_file_count('Spettrogrammi/Target/df_paths.csv', 5, 'Spettrogrammi/Target/df_paths_filtered.csv')"
   ],
   "id": "db20cf818774ed45",
   "outputs": [],
   "execution_count": null
  },
  {
   "metadata": {},
   "cell_type": "code",
   "source": [
    "df_filtered = pd.read_csv('Spettrogrammi/Target/df_paths_filtered.csv', header=None, names=['FilePath'])\n",
    "df_filtered_copy = df_filtered.copy()\n",
    "\n",
    "df_filtered_copy['class'] = df_filtered_copy['FilePath'].apply(lambda path: os.path.basename(os.path.dirname(path)))\n",
    "df_filtered_copy['target'] = df_filtered_copy['FilePath'].apply(lambda path: os.path.basename(os.path.dirname(os.path.dirname(path))))\n",
    "utils.plot_class_distribution_horizontal(df_filtered_copy, 'class')\n"
   ],
   "id": "ab6058893aaf4584",
   "outputs": [],
   "execution_count": null
  },
  {
   "metadata": {},
   "cell_type": "code",
   "source": "filter_csv_by_file_count('Spettrogrammi/Non-Target/df_paths.csv', 5, 'Spettrogrammi/Non-Target/df_paths_filtered.csv')\n",
   "id": "8c075f84823e7517",
   "outputs": [],
   "execution_count": null
  },
  {
   "metadata": {},
   "cell_type": "code",
   "source": [
    "df_filtered = pd.read_csv('Spettrogrammi/Non-Target/df_paths_filtered.csv', header=None, names=['FilePath'])\n",
    "df_filtered_copy = df_filtered.copy()\n",
    "\n",
    "df_filtered_copy['class'] = df_filtered_copy['FilePath'].apply(lambda path: os.path.basename(os.path.dirname(path)))\n",
    "df_filtered_copy['target'] = df_filtered_copy['FilePath'].apply(lambda path: os.path.basename(os.path.dirname(os.path.dirname(path))))\n",
    "utils.plot_class_distribution_horizontal(df_filtered_copy, 'class')"
   ],
   "id": "36cec24e3ead9900",
   "outputs": [],
   "execution_count": null
  }
 ],
 "metadata": {
  "kernelspec": {
   "display_name": "Python 3",
   "language": "python",
   "name": "python3"
  },
  "language_info": {
   "codemirror_mode": {
    "name": "ipython",
    "version": 2
   },
   "file_extension": ".py",
   "mimetype": "text/x-python",
   "name": "python",
   "nbconvert_exporter": "python",
   "pygments_lexer": "ipython2",
   "version": "2.7.6"
  }
 },
 "nbformat": 4,
 "nbformat_minor": 5
}
