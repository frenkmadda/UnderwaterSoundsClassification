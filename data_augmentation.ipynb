{
 "cells": [
  {
   "cell_type": "code",
   "id": "initial_id",
   "metadata": {
    "collapsed": true,
    "ExecuteTime": {
     "end_time": "2024-06-22T16:11:01.516265Z",
     "start_time": "2024-06-22T16:11:01.497128Z"
    }
   },
   "source": [
    "import numpy as np\n",
    "import utils \n",
    "import pandas as pd\n",
    "import os\n",
    "import matplotlib.pyplot as plt\n",
    "import utils"
   ],
   "outputs": [],
   "execution_count": 5
  },
  {
   "metadata": {},
   "cell_type": "markdown",
   "source": [
    "## Attempt to reduce data dimensionality with Structural Similarity Index (SSIM)\n",
    "The entire code is in the file utils.py, it was not reported here because it is refered to an attempt that didn't brought to any result we wanted to keep.\n",
    "The idea was to remove all the images with an SSIM of 0.95 or higher from the classes with more than 500 elements.\n",
    "The results were not as expected, so we decided to keep all the images."
   ],
   "id": "3bc7478038e4f294"
  },
  {
   "metadata": {},
   "cell_type": "code",
   "source": "utils.create_csv_for_folders('Spettrogrammi/Target/', 8)",
   "id": "5f05cb6ef3ef1ddc",
   "outputs": [],
   "execution_count": null
  },
  {
   "metadata": {},
   "cell_type": "code",
   "source": "utils.create_csv_for_folders('Spettrogrammi/Non-Target/', 8)",
   "id": "af2fa57660b1af71",
   "outputs": [],
   "execution_count": null
  },
  {
   "metadata": {},
   "cell_type": "code",
   "source": "utils.merge_csv_files('Spettrogrammi/Target/dati ssim/SSIM', 'Spettrogrammi/Target/ssim_results.csv')",
   "id": "bef62321cb6b7af0",
   "outputs": [],
   "execution_count": null
  },
  {
   "metadata": {},
   "cell_type": "code",
   "source": "utils.merge_csv_files('Spettrogrammi/Non-Target/dati ssim/SSIM', 'Spettrogrammi/Non-Target/ssim_results.csv')",
   "id": "f37899597f9a2b81",
   "outputs": [],
   "execution_count": null
  },
  {
   "metadata": {},
   "cell_type": "code",
   "source": [
    "df_non_target = pd.read_csv('Spettrogrammi/Non-Target/ssim_results.csv')\n",
    "pd.set_option('display.float_format', '{:.3f}'.format)\n",
    "df_non_target.describe()"
   ],
   "id": "ce834f6db4d0fd3f",
   "outputs": [],
   "execution_count": null
  },
  {
   "metadata": {},
   "cell_type": "code",
   "source": [
    "df_target = pd.read_csv('Spettrogrammi/Target/ssim_results.csv')\n",
    "pd.set_option('display.float_format', '{:.3f}'.format)\n",
    "df_target.describe()"
   ],
   "id": "a3f75c405ea93b2",
   "outputs": [],
   "execution_count": null
  },
  {
   "metadata": {},
   "cell_type": "code",
   "source": [
    "df_non_target = pd.read_csv('Spettrogrammi/Non-Target/df_paths.csv')\n",
    "df_target = pd.read_csv('Spettrogrammi/Target/df_paths.csv')\n",
    "\n",
    "df_non_target.to_csv('final_dataset/df_paths_non_target.csv', index=False)\n",
    "df_target.to_csv('final_dataset/df_paths_target.csv', index=False)"
   ],
   "id": "da620f328499072f",
   "outputs": [],
   "execution_count": null
  },
  {
   "metadata": {},
   "cell_type": "markdown",
   "source": "# Split Dataset in Train, validation e Test",
   "id": "4933a3fff07a8326"
  },
  {
   "metadata": {},
   "cell_type": "markdown",
   "source": "### Extracted the numbers of audios for each classes in order to avoid splitting the same audio in the different sets and removed the classes with less than 8 audios.",
   "id": "80ddef7a1495b63d"
  },
  {
   "metadata": {
    "ExecuteTime": {
     "end_time": "2024-06-22T16:11:07.471693Z",
     "start_time": "2024-06-22T16:11:07.381114Z"
    }
   },
   "cell_type": "code",
   "source": [
    "df_target = pd.read_csv('Spettrogrammi/Target/df_paths.csv')\n",
    "df_non_target = pd.read_csv('Spettrogrammi/Non-Target/df_paths.csv')"
   ],
   "id": "8deaf93570f90ceb",
   "outputs": [],
   "execution_count": 6
  },
  {
   "metadata": {
    "ExecuteTime": {
     "end_time": "2024-06-22T16:11:08.107497Z",
     "start_time": "2024-06-22T16:11:07.987155Z"
    }
   },
   "cell_type": "code",
   "source": [
    "utils.estrai_info_da_csv('Spettrogrammi/Target/df_paths.csv', 'Spettrogrammi/Target/df_class_num.csv')\n",
    "utils.estrai_info_da_csv('Spettrogrammi/Non-Target/df_paths.csv', 'Spettrogrammi/Non-Target/df_class_num.csv')"
   ],
   "id": "74be40225d8d8f13",
   "outputs": [],
   "execution_count": 7
  },
  {
   "metadata": {
    "ExecuteTime": {
     "end_time": "2024-06-22T16:11:08.713147Z",
     "start_time": "2024-06-22T16:11:08.502102Z"
    }
   },
   "cell_type": "code",
   "source": [
    "utils.filter_csv('Spettrogrammi/Target/df_class_num.csv', 'Spettrogrammi/Target/df_paths.csv', 'Spettrogrammi/Target/df_paths_filtered.csv')\n",
    "utils.filter_csv('Spettrogrammi/Non-Target/df_class_num.csv', 'Spettrogrammi/Non-Target/df_paths.csv', 'Spettrogrammi/Non-Target/df_paths_filtered.csv')"
   ],
   "id": "df7a96176616f033",
   "outputs": [],
   "execution_count": 8
  }
 ],
 "metadata": {
  "kernelspec": {
   "display_name": "Python 3",
   "language": "python",
   "name": "python3"
  },
  "language_info": {
   "codemirror_mode": {
    "name": "ipython",
    "version": 2
   },
   "file_extension": ".py",
   "mimetype": "text/x-python",
   "name": "python",
   "nbconvert_exporter": "python",
   "pygments_lexer": "ipython2",
   "version": "2.7.6"
  }
 },
 "nbformat": 4,
 "nbformat_minor": 5
}
