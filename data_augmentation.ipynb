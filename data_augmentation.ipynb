{
 "cells": [
  {
   "cell_type": "code",
   "id": "initial_id",
   "metadata": {
    "collapsed": true,
    "ExecuteTime": {
     "end_time": "2024-06-22T17:01:45.696219Z",
     "start_time": "2024-06-22T17:01:45.692688Z"
    }
   },
   "source": [
    "import numpy as np\n",
    "import utils \n",
    "import pandas as pd\n",
    "import os\n",
    "import matplotlib.pyplot as plt\n",
    "import utils"
   ],
   "outputs": [],
   "execution_count": 5
  },
  {
   "metadata": {},
   "cell_type": "markdown",
   "source": [
    "## Attempt to reduce data dimensionality with Structural Similarity Index (SSIM)\n",
    "The entire code is in the file utils.py, it was not reported here because it is refered to an attempt that didn't brought to any result we wanted to keep.\n",
    "The idea was to remove all the images with an SSIM of 0.95 or higher from the classes with more than 500 elements.\n",
    "The results were not as expected, so we decided to keep all the images."
   ],
   "id": "3bc7478038e4f294"
  },
  {
   "metadata": {
    "ExecuteTime": {
     "end_time": "2024-06-22T17:01:25.622388Z",
     "start_time": "2024-06-22T17:01:25.493168Z"
    }
   },
   "cell_type": "code",
   "source": "utils.create_csv_for_folders('Spettrogrammi/Target/', 8)",
   "id": "5f05cb6ef3ef1ddc",
   "outputs": [],
   "execution_count": 2
  },
  {
   "metadata": {
    "ExecuteTime": {
     "end_time": "2024-06-22T17:01:25.675920Z",
     "start_time": "2024-06-22T17:01:25.623385Z"
    }
   },
   "cell_type": "code",
   "source": "utils.create_csv_for_folders('Spettrogrammi/Non-Target/', 8)",
   "id": "af2fa57660b1af71",
   "outputs": [],
   "execution_count": 3
  },
  {
   "metadata": {},
   "cell_type": "code",
   "source": "utils.merge_csv_files('Spettrogrammi/Target/dati ssim/SSIM', 'Spettrogrammi/Target/ssim_results.csv')",
   "id": "bef62321cb6b7af0",
   "outputs": [],
   "execution_count": null
  },
  {
   "metadata": {
    "ExecuteTime": {
     "end_time": "2024-06-22T17:01:39.797626Z",
     "start_time": "2024-06-22T17:01:39.797558Z"
    }
   },
   "cell_type": "code",
   "source": "utils.merge_csv_files('Spettrogrammi/Non-Target/dati ssim/SSIM', 'Spettrogrammi/Non-Target/ssim_results.csv')",
   "id": "f37899597f9a2b81",
   "outputs": [],
   "execution_count": null
  },
  {
   "metadata": {},
   "cell_type": "code",
   "source": [
    "df_non_target = pd.read_csv('Spettrogrammi/Non-Target/ssim_results.csv')\n",
    "pd.set_option('display.float_format', '{:.3f}'.format)\n",
    "df_non_target.describe()"
   ],
   "id": "ce834f6db4d0fd3f",
   "outputs": [],
   "execution_count": null
  },
  {
   "metadata": {},
   "cell_type": "code",
   "source": [
    "df_target = pd.read_csv('Spettrogrammi/Target/ssim_results.csv')\n",
    "pd.set_option('display.float_format', '{:.3f}'.format)\n",
    "df_target.describe()"
   ],
   "id": "a3f75c405ea93b2",
   "outputs": [],
   "execution_count": null
  },
  {
   "metadata": {},
   "cell_type": "code",
   "source": [
    "df_non_target = pd.read_csv('Spettrogrammi/Non-Target/df_paths.csv')\n",
    "df_target = pd.read_csv('Spettrogrammi/Target/df_paths.csv')\n",
    "\n",
    "df_non_target.to_csv('final_dataset/df_paths_non_target.csv', index=False)\n",
    "df_target.to_csv('final_dataset/df_paths_target.csv', index=False)"
   ],
   "id": "da620f328499072f",
   "outputs": [],
   "execution_count": null
  },
  {
   "metadata": {},
   "cell_type": "markdown",
   "source": "# Split Dataset in Train, validation e Test",
   "id": "4933a3fff07a8326"
  },
  {
   "metadata": {},
   "cell_type": "markdown",
   "source": "### Extracted the numbers of audios for each classes in order to avoid splitting the same audio in the different sets and removed the classes with less than 8 audios.",
   "id": "80ddef7a1495b63d"
  },
  {
   "metadata": {
    "ExecuteTime": {
     "end_time": "2024-06-22T17:01:57.564964Z",
     "start_time": "2024-06-22T17:01:57.510568Z"
    }
   },
   "cell_type": "code",
   "source": [
    "df_target = pd.read_csv('Spettrogrammi/Target/df_paths.csv')\n",
    "df_non_target = pd.read_csv('Spettrogrammi/Non-Target/df_paths.csv')"
   ],
   "id": "8deaf93570f90ceb",
   "outputs": [],
   "execution_count": 8
  },
  {
   "metadata": {
    "ExecuteTime": {
     "end_time": "2024-06-22T17:01:57.820837Z",
     "start_time": "2024-06-22T17:01:57.729229Z"
    }
   },
   "cell_type": "code",
   "source": [
    "utils.estrai_info_da_csv('Spettrogrammi/Target/df_paths.csv', 'Spettrogrammi/Target/df_class_num.csv')\n",
    "utils.estrai_info_da_csv('Spettrogrammi/Non-Target/df_paths.csv', 'Spettrogrammi/Non-Target/df_class_num.csv')"
   ],
   "id": "74be40225d8d8f13",
   "outputs": [],
   "execution_count": 9
  },
  {
   "metadata": {
    "ExecuteTime": {
     "end_time": "2024-06-22T17:01:58.446858Z",
     "start_time": "2024-06-22T17:01:58.303552Z"
    }
   },
   "cell_type": "code",
   "source": [
    "utils.filter_csv('Spettrogrammi/Target/df_class_num.csv', 'Spettrogrammi/Target/df_paths.csv', 'Spettrogrammi/Target/df_paths_filtered.csv')\n",
    "utils.filter_csv('Spettrogrammi/Non-Target/df_class_num.csv', 'Spettrogrammi/Non-Target/df_paths.csv', 'Spettrogrammi/Non-Target/df_paths_filtered.csv')"
   ],
   "id": "df7a96176616f033",
   "outputs": [],
   "execution_count": 10
  },
  {
   "metadata": {},
   "cell_type": "markdown",
   "source": "### Split the dataset in train, validation and test",
   "id": "c4499f90a115c310"
  },
  {
   "metadata": {
    "ExecuteTime": {
     "end_time": "2024-06-22T17:01:59.085378Z",
     "start_time": "2024-06-22T17:01:59.079219Z"
    }
   },
   "cell_type": "code",
   "source": [
    "def split_files_into_sets(input_csv_path, train_csv_path, val_csv_path, test_csv_path):\n",
    "    # Imposta il seed per il generatore di numeri casuali\n",
    "    np.random.seed(0)\n",
    "\n",
    "    # Carica il file CSV in un DataFrame\n",
    "    df = pd.read_csv(input_csv_path)\n",
    "\n",
    "    # Crea una nuova colonna per il nome del file senza la parte \"_resampled\"\n",
    "    df['File'] = df['FilePath'].apply(lambda x: x.split('_resampled')[0])\n",
    "\n",
    "    # Inizializza una nuova colonna per il set\n",
    "    df['Set'] = ''\n",
    "\n",
    "    # Raggruppa per classe\n",
    "    grouped = df.groupby('Classe')\n",
    "\n",
    "    # Per ogni classe, assegna un set a ciascun file unico\n",
    "    for name, group in grouped:\n",
    "        # Ottieni un elenco di file unici\n",
    "        unique_files = group['File'].unique()\n",
    "\n",
    "        # Calcola le dimensioni dei set\n",
    "        train_size = int(0.8 * len(unique_files))\n",
    "        val_size = int(0.1 * len(unique_files))\n",
    "        test_size = len(unique_files) - train_size - val_size\n",
    "\n",
    "        # Assegna un set a ciascun file unico\n",
    "        file_sets = ['train'] * train_size + ['val'] * val_size + ['test'] * test_size\n",
    "\n",
    "        # Mescola l'elenco dei set di file\n",
    "        np.random.shuffle(file_sets)\n",
    "\n",
    "        # Crea un dizionario che mappa ciascun file al suo set\n",
    "        file_to_set = dict(zip(unique_files, file_sets))\n",
    "\n",
    "        # Assegna ogni riga al set del suo file\n",
    "        df.loc[group.index, 'Set'] = group['File'].apply(lambda x: file_to_set[x])\n",
    "\n",
    "    # Crea tre DataFrame separati per i set di addestramento, validazione e test\n",
    "    df_train = df[df['Set'] == 'train']\n",
    "    df_val = df[df['Set'] == 'val']\n",
    "    df_test = df[df['Set'] == 'test']\n",
    "\n",
    "    # Salva i DataFrame separati come nuovi CSV\n",
    "    df_train.to_csv(train_csv_path, index=False)\n",
    "    df_val.to_csv(val_csv_path, index=False)\n",
    "    df_test.to_csv(test_csv_path, index=False)"
   ],
   "id": "ea654381177c9d9a",
   "outputs": [],
   "execution_count": 11
  },
  {
   "metadata": {
    "ExecuteTime": {
     "end_time": "2024-06-22T17:01:59.494196Z",
     "start_time": "2024-06-22T17:01:59.298155Z"
    }
   },
   "cell_type": "code",
   "source": "split_files_into_sets('Spettrogrammi/Target/df_paths_filtered.csv', 'final_dataset/training/df_paths_target_train.csv', 'final_dataset/validation/df_paths_target_val.csv', 'final_dataset/test/df_paths_target_test.csv')",
   "id": "ae9b5f9d34c0df64",
   "outputs": [],
   "execution_count": 12
  },
  {
   "metadata": {
    "ExecuteTime": {
     "end_time": "2024-06-22T17:01:59.538558Z",
     "start_time": "2024-06-22T17:01:59.495511Z"
    }
   },
   "cell_type": "code",
   "source": "split_files_into_sets('Spettrogrammi/Non-Target/df_paths_filtered.csv', 'final_dataset/training/df_paths_non_target_train.csv', 'final_dataset/validation/df_paths_non_target_val.csv', 'final_dataset/test/df_paths_non_target_test.csv')",
   "id": "c344d61e486cbb3b",
   "outputs": [],
   "execution_count": 13
  },
  {
   "metadata": {},
   "cell_type": "code",
   "source": "",
   "id": "f07d0dfb0fcde4ce",
   "outputs": [],
   "execution_count": null
  }
 ],
 "metadata": {
  "kernelspec": {
   "display_name": "Python 3",
   "language": "python",
   "name": "python3"
  },
  "language_info": {
   "codemirror_mode": {
    "name": "ipython",
    "version": 2
   },
   "file_extension": ".py",
   "mimetype": "text/x-python",
   "name": "python",
   "nbconvert_exporter": "python",
   "pygments_lexer": "ipython2",
   "version": "2.7.6"
  }
 },
 "nbformat": 4,
 "nbformat_minor": 5
}
