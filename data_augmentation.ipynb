{
 "cells": [
  {
   "metadata": {},
   "cell_type": "markdown",
   "source": "## Analisi distribuzione classi della cartella Spettrogrammi per riduzione della dimensionalità dei dati",
   "id": "a1734cbe3d60be06"
  },
  {
   "cell_type": "code",
   "id": "initial_id",
   "metadata": {
    "collapsed": true,
    "ExecuteTime": {
     "end_time": "2024-06-19T08:18:07.241189Z",
     "start_time": "2024-06-19T08:18:07.238921Z"
    }
   },
   "source": [
    "import numpy as np\n",
    "import utils \n",
    "import pandas as pd\n",
    "import os\n",
    "import matplotlib.pyplot as plt"
   ],
   "outputs": [],
   "execution_count": 13
  },
  {
   "metadata": {},
   "cell_type": "markdown",
   "source": "## Tentativo di riduzione della dimensionalità dei dati con Structural Similarity Index (SSIM)",
   "id": "3bc7478038e4f294"
  },
  {
   "metadata": {},
   "cell_type": "code",
   "outputs": [],
   "execution_count": null,
   "source": [
    "def create_csv_for_folders(directory, k):\n",
    "    data_dir = os.path.join(directory, 'dati ssim')\n",
    "    os.makedirs(data_dir, exist_ok=True)\n",
    "\n",
    "    for root, dirs, files in os.walk(directory):\n",
    "        png_files = [file for file in files if file.endswith('.png')]\n",
    "        if len(png_files) < k:\n",
    "            continue\n",
    "        df = pd.DataFrame([os.path.join(root, file) for file in png_files], columns=['FilePath'])\n",
    "        folder_name = os.path.basename(root)\n",
    "        df.to_csv(os.path.join(data_dir, f'df_paths_{folder_name}.csv'), index=False)\n"
   ],
   "id": "1a58080156dcc645"
  },
  {
   "metadata": {},
   "cell_type": "code",
   "outputs": [],
   "execution_count": null,
   "source": "create_csv_for_folders('Spettrogrammi/Target/', 8)",
   "id": "5f05cb6ef3ef1ddc"
  },
  {
   "metadata": {},
   "cell_type": "code",
   "outputs": [],
   "execution_count": null,
   "source": "create_csv_for_folders('Spettrogrammi/Non-Target/', 8)",
   "id": "af2fa57660b1af71"
  },
  {
   "metadata": {
    "ExecuteTime": {
     "end_time": "2024-06-19T11:13:18.430603Z",
     "start_time": "2024-06-19T11:13:18.427656Z"
    }
   },
   "cell_type": "code",
   "source": [
    "def merge_csv_files(directory, output_file):\n",
    "    files = os.listdir(directory)\n",
    "\n",
    "    csv_files = [file for file in files if file.endswith('.csv')]\n",
    "\n",
    "    df_list = []\n",
    "\n",
    "    for csv_file in csv_files:\n",
    "        df = pd.read_csv(os.path.join(directory, csv_file))\n",
    "        df_list.append(df)\n",
    "\n",
    "    merged_df = pd.concat(df_list, ignore_index=True)\n",
    "    merged_df.to_csv(output_file, index=False)"
   ],
   "id": "5a1e6fc7a9d82de6",
   "outputs": [],
   "execution_count": 116
  },
  {
   "metadata": {
    "ExecuteTime": {
     "end_time": "2024-06-19T12:28:56.918987Z",
     "start_time": "2024-06-19T12:28:43.168935Z"
    }
   },
   "cell_type": "code",
   "source": "merge_csv_files('Spettrogrammi/Target/dati ssim/SSIM', 'Spettrogrammi/Target/ssim_results.csv')",
   "id": "bef62321cb6b7af0",
   "outputs": [],
   "execution_count": 180
  },
  {
   "metadata": {
    "ExecuteTime": {
     "end_time": "2024-06-19T12:28:59.325956Z",
     "start_time": "2024-06-19T12:28:56.920305Z"
    }
   },
   "cell_type": "code",
   "source": "merge_csv_files('Spettrogrammi/Non-Target/dati ssim/SSIM', 'Spettrogrammi/Non-Target/ssim_results.csv')",
   "id": "f37899597f9a2b81",
   "outputs": [],
   "execution_count": 181
  },
  {
   "metadata": {
    "ExecuteTime": {
     "end_time": "2024-06-19T12:28:59.937804Z",
     "start_time": "2024-06-19T12:28:59.326764Z"
    }
   },
   "cell_type": "code",
   "source": [
    "df_non_target = pd.read_csv('Spettrogrammi/Non-Target/ssim_results.csv')\n",
    "pd.set_option('display.float_format', '{:.3f}'.format)\n",
    "df_non_target.describe()"
   ],
   "id": "ce834f6db4d0fd3f",
   "outputs": [
    {
     "data": {
      "text/plain": [
       "            SSIM\n",
       "count 675576.000\n",
       "mean       0.903\n",
       "std        0.048\n",
       "min        0.386\n",
       "25%        0.889\n",
       "50%        0.915\n",
       "75%        0.932\n",
       "max        0.981"
      ],
      "text/html": [
       "<div>\n",
       "<style scoped>\n",
       "    .dataframe tbody tr th:only-of-type {\n",
       "        vertical-align: middle;\n",
       "    }\n",
       "\n",
       "    .dataframe tbody tr th {\n",
       "        vertical-align: top;\n",
       "    }\n",
       "\n",
       "    .dataframe thead th {\n",
       "        text-align: right;\n",
       "    }\n",
       "</style>\n",
       "<table border=\"1\" class=\"dataframe\">\n",
       "  <thead>\n",
       "    <tr style=\"text-align: right;\">\n",
       "      <th></th>\n",
       "      <th>SSIM</th>\n",
       "    </tr>\n",
       "  </thead>\n",
       "  <tbody>\n",
       "    <tr>\n",
       "      <th>count</th>\n",
       "      <td>675576.000</td>\n",
       "    </tr>\n",
       "    <tr>\n",
       "      <th>mean</th>\n",
       "      <td>0.903</td>\n",
       "    </tr>\n",
       "    <tr>\n",
       "      <th>std</th>\n",
       "      <td>0.048</td>\n",
       "    </tr>\n",
       "    <tr>\n",
       "      <th>min</th>\n",
       "      <td>0.386</td>\n",
       "    </tr>\n",
       "    <tr>\n",
       "      <th>25%</th>\n",
       "      <td>0.889</td>\n",
       "    </tr>\n",
       "    <tr>\n",
       "      <th>50%</th>\n",
       "      <td>0.915</td>\n",
       "    </tr>\n",
       "    <tr>\n",
       "      <th>75%</th>\n",
       "      <td>0.932</td>\n",
       "    </tr>\n",
       "    <tr>\n",
       "      <th>max</th>\n",
       "      <td>0.981</td>\n",
       "    </tr>\n",
       "  </tbody>\n",
       "</table>\n",
       "</div>"
      ]
     },
     "execution_count": 182,
     "metadata": {},
     "output_type": "execute_result"
    }
   ],
   "execution_count": 182
  },
  {
   "metadata": {
    "ExecuteTime": {
     "end_time": "2024-06-19T12:29:03.284867Z",
     "start_time": "2024-06-19T12:28:59.939290Z"
    }
   },
   "cell_type": "code",
   "source": [
    "df_target = pd.read_csv('Spettrogrammi/Target/ssim_results.csv')\n",
    "pd.set_option('display.float_format', '{:.3f}'.format)\n",
    "df_target.describe()"
   ],
   "id": "a3f75c405ea93b2",
   "outputs": [
    {
     "data": {
      "text/plain": [
       "             SSIM\n",
       "count 4538823.000\n",
       "mean        0.928\n",
       "std         0.033\n",
       "min         0.378\n",
       "25%         0.919\n",
       "50%         0.936\n",
       "75%         0.948\n",
       "max         0.969"
      ],
      "text/html": [
       "<div>\n",
       "<style scoped>\n",
       "    .dataframe tbody tr th:only-of-type {\n",
       "        vertical-align: middle;\n",
       "    }\n",
       "\n",
       "    .dataframe tbody tr th {\n",
       "        vertical-align: top;\n",
       "    }\n",
       "\n",
       "    .dataframe thead th {\n",
       "        text-align: right;\n",
       "    }\n",
       "</style>\n",
       "<table border=\"1\" class=\"dataframe\">\n",
       "  <thead>\n",
       "    <tr style=\"text-align: right;\">\n",
       "      <th></th>\n",
       "      <th>SSIM</th>\n",
       "    </tr>\n",
       "  </thead>\n",
       "  <tbody>\n",
       "    <tr>\n",
       "      <th>count</th>\n",
       "      <td>4538823.000</td>\n",
       "    </tr>\n",
       "    <tr>\n",
       "      <th>mean</th>\n",
       "      <td>0.928</td>\n",
       "    </tr>\n",
       "    <tr>\n",
       "      <th>std</th>\n",
       "      <td>0.033</td>\n",
       "    </tr>\n",
       "    <tr>\n",
       "      <th>min</th>\n",
       "      <td>0.378</td>\n",
       "    </tr>\n",
       "    <tr>\n",
       "      <th>25%</th>\n",
       "      <td>0.919</td>\n",
       "    </tr>\n",
       "    <tr>\n",
       "      <th>50%</th>\n",
       "      <td>0.936</td>\n",
       "    </tr>\n",
       "    <tr>\n",
       "      <th>75%</th>\n",
       "      <td>0.948</td>\n",
       "    </tr>\n",
       "    <tr>\n",
       "      <th>max</th>\n",
       "      <td>0.969</td>\n",
       "    </tr>\n",
       "  </tbody>\n",
       "</table>\n",
       "</div>"
      ]
     },
     "execution_count": 183,
     "metadata": {},
     "output_type": "execute_result"
    }
   ],
   "execution_count": 183
  },
  {
   "metadata": {},
   "cell_type": "markdown",
   "source": [
    "## Eliminazione delle immagini con SSIM > 0.95\n",
    "Le immagini con SSIM > 0.95 verranno eliminate solo dalle classi con più di 500 immagini. Questo per evitare di eliminare troppi dati dalle classi con meno immagini.\n",
    "\n",
    "Per cercare di eliminare più campioni simili, si è deciso di verificare il numero di occorrenze di ogni path all'interno di ssim_results.csv, prendendo in esame solo la prima colonna (Image1). Questo ci permette di capire quante immagini sono simili tra loro e di conseguenza eliminare più campioni simili."
   ],
   "id": "21b7adab0f08c078"
  },
  {
   "metadata": {
    "ExecuteTime": {
     "end_time": "2024-06-19T12:29:03.288209Z",
     "start_time": "2024-06-19T12:29:03.285653Z"
    }
   },
   "cell_type": "code",
   "source": [
    "def filter_and_count(csv_path):\n",
    "    df = pd.read_csv(csv_path)\n",
    "    filtered_df = df[df['SSIM'] >= 0.95]\n",
    "    count_df = filtered_df['Image1'].value_counts().reset_index()\n",
    "    count_df.columns = ['Image1', 'Count']\n",
    "    sorted_df = count_df.sort_values(by='Count', ascending=False)\n",
    "    \n",
    "    if sorted_df.empty:\n",
    "        return None\n",
    "\n",
    "    return sorted_df.iloc[0]['Image1']"
   ],
   "id": "cfb8f831e449ca51",
   "outputs": [],
   "execution_count": 184
  },
  {
   "metadata": {
    "ExecuteTime": {
     "end_time": "2024-06-19T12:29:03.291268Z",
     "start_time": "2024-06-19T12:29:03.289097Z"
    }
   },
   "cell_type": "code",
   "source": [
    "def get_image2_paths(ssim_csv_path, image1_path):\n",
    "    df = pd.read_csv(ssim_csv_path)\n",
    "    similar_images_df = df[df['Image1'] == image1_path]\n",
    "    similar_images_list = similar_images_df['Image2'].tolist()\n",
    "    return similar_images_list"
   ],
   "id": "9e514e70693711f6",
   "outputs": [],
   "execution_count": 185
  },
  {
   "metadata": {
    "ExecuteTime": {
     "end_time": "2024-06-19T12:29:21.189702Z",
     "start_time": "2024-06-19T12:29:21.186303Z"
    }
   },
   "cell_type": "code",
   "source": [
    "def remove_similar_images(ssim_csv_path, df_paths_csv_path, class_column):\n",
    "    while True:\n",
    "        isGood = False\n",
    "        \n",
    "        # Ottieni il percorso dell'immagine con il maggior numero di occorrenze in ssim_results.csv con SSIM >= 0.95\n",
    "        image1_path = filter_and_count(ssim_csv_path)\n",
    "        list_image2 = get_image2_paths(ssim_csv_path, image1_path)\n",
    "        ssim_df = pd.read_csv(ssim_csv_path)\n",
    "        ssim_df = ssim_df[ssim_df['Image1'] != image1_path]\n",
    "\n",
    "        ssim_df.to_csv(ssim_csv_path, index=False)\n",
    "        \n",
    "        # Se filter_and_count restituisce None\n",
    "        if image1_path is None:\n",
    "            break\n",
    "        \n",
    "        path_parts = image1_path.split('/')\n",
    "        if path_parts[2] in class_column:\n",
    "            isGood = True\n",
    "            \n",
    "        if isGood:\n",
    "            df_paths = pd.read_csv(df_paths_csv_path)\n",
    "    \n",
    "            for path in list_image2:\n",
    "                df_paths = df_paths[df_paths['FilePath'] != path]\n",
    "                \n",
    "            df_paths.to_csv(df_paths_csv_path, index=False)\n",
    "            \n",
    "        else:\n",
    "            continue"
   ],
   "id": "43f9ee6990c2d27f",
   "outputs": [],
   "execution_count": 194
  },
  {
   "metadata": {
    "ExecuteTime": {
     "end_time": "2024-06-19T12:29:03.415919Z",
     "start_time": "2024-06-19T12:29:03.296113Z"
    }
   },
   "cell_type": "code",
   "source": [
    "df_non_target = pd.read_csv('Spettrogrammi/Non-Target/df_paths.csv')\n",
    "df_target = pd.read_csv('Spettrogrammi/Target/df_paths.csv')\n",
    "\n",
    "df_non_target.to_csv('final_dataset/df_paths_non_target.csv', index=False)\n",
    "df_target.to_csv('final_dataset/df_paths_target.csv', index=False)"
   ],
   "id": "da620f328499072f",
   "outputs": [],
   "execution_count": 187
  },
  {
   "metadata": {
    "ExecuteTime": {
     "end_time": "2024-06-19T12:29:03.419372Z",
     "start_time": "2024-06-19T12:29:03.417020Z"
    }
   },
   "cell_type": "code",
   "source": [
    "def get_class_distribution(df, class_column):\n",
    "    class_distribution = df[class_column].value_counts() > 500\n",
    "    class_distribution = class_distribution.sort_values(ascending=True)\n",
    "    return class_distribution"
   ],
   "id": "8e2f6702370e4ae1",
   "outputs": [],
   "execution_count": 188
  },
  {
   "metadata": {},
   "cell_type": "markdown",
   "source": "Rimozione da ssim_results.csv delle righe appartenti alle classi con meno di 500 immagini",
   "id": "58aecc3cf37b51c2"
  },
  {
   "metadata": {
    "ExecuteTime": {
     "end_time": "2024-06-19T12:29:03.438642Z",
     "start_time": "2024-06-19T12:29:03.436179Z"
    }
   },
   "cell_type": "code",
   "source": [
    "def remove_rows_by_class(ssim_csv_path, class_column):\n",
    "    ssim_df = pd.read_csv(ssim_csv_path)\n",
    "    \n",
    "    # Create a new column 'class' in the DataFrame by extracting the class from 'Image1'\n",
    "    ssim_df['class'] = ssim_df['Image1'].apply(lambda x: x.split('/')[2])\n",
    "    \n",
    "    # Create a condition that checks if 'class' is in 'class_column'\n",
    "    condition = ssim_df['class'].isin(class_column)\n",
    "    \n",
    "    # Use the condition to filter the DataFrame\n",
    "    filtered_df = ssim_df[condition]\n",
    "    \n",
    "    # Save the filtered DataFrame to the original file\n",
    "    filtered_df.to_csv(ssim_csv_path, index=False)"
   ],
   "id": "d9aca02948c514e6",
   "outputs": [],
   "execution_count": 192
  },
  {
   "metadata": {},
   "cell_type": "markdown",
   "source": "",
   "id": "1af77dd6f622ca6a"
  },
  {
   "metadata": {},
   "cell_type": "markdown",
   "source": "# Split Dataset in Train, validation e Test",
   "id": "4933a3fff07a8326"
  },
  {
   "metadata": {},
   "cell_type": "markdown",
   "source": "### Estratti i numeri di audio per classe per non dividere lo stesso audio nei vari set ed eliminate le classi con meno di 8 audio distinti.",
   "id": "80ddef7a1495b63d"
  },
  {
   "metadata": {},
   "cell_type": "code",
   "outputs": [],
   "execution_count": null,
   "source": [
    "df_target = pd.read_csv('Spettrogrammi/Target/df_paths.csv')\n",
    "df_non_target = pd.read_csv('Spettrogrammi/Non-Target/df_paths.csv')"
   ],
   "id": "8deaf93570f90ceb"
  },
  {
   "metadata": {
    "ExecuteTime": {
     "end_time": "2024-06-22T14:53:15.703897Z",
     "start_time": "2024-06-22T14:53:15.677015Z"
    }
   },
   "cell_type": "code",
   "source": [
    "import csv\n",
    "import os\n",
    "from collections import defaultdict\n",
    "\n",
    "def estrai_info_da_csv(input_csv,output_csv):\n",
    "    classi = defaultdict(set)\n",
    "    with open(input_csv, mode='r', newline='') as file:\n",
    "        reader = csv.reader(file)\n",
    "        first_row = next(reader)\n",
    "        if first_row[0] == 'FilePath':\n",
    "            first_row = next(reader)\n",
    "        for row in reader:\n",
    "            path = row[0]\n",
    "            classe = path.split(os.sep)[1]\n",
    "            audio = path.split(os.sep)[2].split('_resampled_')[0]\n",
    "            classi[classe].add(audio)\n",
    "    \n",
    "    with open(output_csv, mode='w', newline='') as file:\n",
    "        writer = csv.writer(file)\n",
    "        writer.writerow(['Classe', 'Numero Audio associato alla classe'])\n",
    "        for classe, audio_set in classi.items():\n",
    "            writer.writerow([classe, len(audio_set)])\n",
    "    \n",
    "\n"
   ],
   "id": "fd6462257c710956",
   "outputs": [],
   "execution_count": 13
  },
  {
   "metadata": {
    "ExecuteTime": {
     "end_time": "2024-06-22T15:08:49.735638Z",
     "start_time": "2024-06-22T15:08:49.424735Z"
    }
   },
   "cell_type": "code",
   "source": [
    "estrai_info_da_csv('Spettrogrammi/Target/df_paths.csv', 'Spettrogrammi/Target/df_class_num.csv')\n",
    "estrai_info_da_csv('Spettrogrammi/Non-Target/df_paths.csv', 'Spettrogrammi/Non-Target/df_class_num.csv')"
   ],
   "id": "74be40225d8d8f13",
   "outputs": [],
   "execution_count": 18
  },
  {
   "metadata": {
    "ExecuteTime": {
     "end_time": "2024-06-22T15:21:00.688932Z",
     "start_time": "2024-06-22T15:21:00.669616Z"
    }
   },
   "cell_type": "code",
   "source": [
    "def filter_csv(class_num_csv, csv_to_filter, output_di_file):\n",
    "    df = pd.read_csv(class_num_csv)\n",
    "    df_filtered = df[df['Numero Audio associato alla classe'] >= 8]\n",
    "    \n",
    "    df_paths = pd.read_csv(csv_to_filter)\n",
    "    df_paths['Classe'] = df_paths['FilePath'].apply(lambda x: x.split('\\\\')[1])\n",
    "    df_paths_filtered = df_paths[df_paths['Classe'].isin(df_filtered['Classe'])]\n",
    "    df_paths_filtered = df_paths_filtered.drop(columns=['Classe'])\n",
    "    df_paths_filtered.to_csv(output_di_file, index=False)"
   ],
   "id": "c69b050a7fc5e0a5",
   "outputs": [],
   "execution_count": 32
  },
  {
   "metadata": {
    "ExecuteTime": {
     "end_time": "2024-06-22T15:21:01.703127Z",
     "start_time": "2024-06-22T15:21:01.473875Z"
    }
   },
   "cell_type": "code",
   "source": [
    "filter_csv('Spettrogrammi/Target/df_class_num.csv', 'Spettrogrammi/Target/df_paths.csv', 'Spettrogrammi/Target/df_paths_filtered.csv')\n",
    "filter_csv('Spettrogrammi/Non-Target/df_class_num.csv', 'Spettrogrammi/Non-Target/df_paths.csv', 'Spettrogrammi/Non-Target/df_paths_filtered.csv')"
   ],
   "id": "df7a96176616f033",
   "outputs": [],
   "execution_count": 33
  },
  {
   "metadata": {},
   "cell_type": "code",
   "outputs": [],
   "execution_count": null,
   "source": "",
   "id": "888d694782300e4b"
  }
 ],
 "metadata": {
  "kernelspec": {
   "display_name": "Python 3",
   "language": "python",
   "name": "python3"
  },
  "language_info": {
   "codemirror_mode": {
    "name": "ipython",
    "version": 2
   },
   "file_extension": ".py",
   "mimetype": "text/x-python",
   "name": "python",
   "nbconvert_exporter": "python",
   "pygments_lexer": "ipython2",
   "version": "2.7.6"
  }
 },
 "nbformat": 4,
 "nbformat_minor": 5
}
