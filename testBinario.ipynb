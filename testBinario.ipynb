{
 "cells": [
  {
   "metadata": {
    "ExecuteTime": {
     "end_time": "2024-06-30T12:47:34.020590Z",
     "start_time": "2024-06-30T12:47:34.014601Z"
    }
   },
   "cell_type": "code",
   "source": [
    "import torch\n",
    "import torch.nn as nn\n",
    "import torchvision.transforms as transforms\n",
    "import torchvision.models as models\n",
    "from PIL import Image\n",
    "import pandas as pd\n",
    "from tqdm import tqdm  # Per la barra di caricamento\n",
    "import platform\n",
    "from torchvision.models import AlexNet_Weights, GoogLeNet_Weights\n",
    "from sklearn.metrics import accuracy_score, precision_score, recall_score, f1_score\n",
    "import csv\n"
   ],
   "id": "b7aa5e7062c59ac4",
   "outputs": [],
   "execution_count": 53
  },
  {
   "metadata": {
    "ExecuteTime": {
     "end_time": "2024-06-30T12:47:34.036420Z",
     "start_time": "2024-06-30T12:47:34.023566Z"
    }
   },
   "cell_type": "code",
   "source": [
    "def test_model(model_path, type, average, num_classes=2):\n",
    "    # Percorso al CSV (puoi definirlo qui)\n",
    "    csv_path = 'final_dataset/test/df_paths_test.csv'\n",
    "\n",
    "    # Funzione per caricare il modello\n",
    "    def load_model(model_path, device):\n",
    "        if type == 'googlenet':\n",
    "            model = models.googlenet(weights=GoogLeNet_Weights.IMAGENET1K_V1)\n",
    "            model.fc = nn.Linear(model.fc.in_features, num_classes)  # Modifica il classificatore finale\n",
    "            model.aux1 = None  # Disabilita le teste ausiliarie\n",
    "            model.aux2 = None\n",
    "        elif type == 'alexnet':\n",
    "            model = models.alexnet(weights=AlexNet_Weights.IMAGENET1K_V1)\n",
    "            model.classifier[6] = nn.Linear(model.classifier[6].in_features, num_classes)  # Modifica il classificatore finale\n",
    "        \n",
    "        model.load_state_dict(torch.load(model_path, map_location=device))\n",
    "        model.to(device)\n",
    "        model.eval()\n",
    "        return model\n",
    "\n",
    "    # Funzione per caricare un'immagine e applicare le trasformazioni\n",
    "    def process_image(image_path):\n",
    "        transform = transforms.Compose([\n",
    "            transforms.Resize((224, 224)),\n",
    "            transforms.ToTensor(),\n",
    "            transforms.Normalize(mean=[0.485, 0.456, 0.406], std=[0.229, 0.224, 0.225]),\n",
    "        ])\n",
    "        image = Image.open(image_path).convert('RGB')\n",
    "        image = transform(image).unsqueeze(0)\n",
    "        return image\n",
    "    \n",
    "    def calculate_metrics(labels, outputs):\n",
    "        # Convert labels to binary\n",
    "        labels_binary = [1 if label == 'Target' else 0 for label in labels]\n",
    "        # Convert outputs to binary\n",
    "        outputs_binary = [1 if output == 'Target' else 0 for output in outputs]\n",
    "        \n",
    "        accuracy = accuracy_score(labels_binary, outputs_binary)\n",
    "        precision = precision_score(labels_binary, outputs_binary, average=average)\n",
    "        recall = recall_score(labels_binary, outputs_binary, average=average)\n",
    "        f1 = f1_score(labels_binary, outputs_binary, average=average)\n",
    "        return accuracy, precision, recall, f1\n",
    "    \n",
    "    def save_metrics(accuracy, precision, recall, f1, path):\n",
    "        with open(path, 'w', newline='') as csvfile:\n",
    "            fieldnames = ['test_accuracy', 'test_precision', 'test_recall', 'test_f1']\n",
    "            writer = csv.DictWriter(csvfile, fieldnames=fieldnames)\n",
    "            writer.writeheader()\n",
    "            writer.writerow({\n",
    "                'test_accuracy': test_accuracy,\n",
    "                'test_precision': test_precision,\n",
    "                'test_recall': test_recall,\n",
    "                'test_f1': test_f1\n",
    "            })\n",
    "\n",
    "    # Carica il dispositivo (GPU se disponibile, altrimenti CPU)\n",
    "    if platform.system() == 'Windows':\n",
    "        device = torch.device(\"cuda:0\" if torch.cuda.is_available() else \"cpu\")\n",
    "    else:\n",
    "        device = torch.device(\"mps\" if torch.backends.mps.is_available() else \"cpu\")\n",
    "\n",
    "    # Carica il modello\n",
    "    model = load_model(model_path, device)\n",
    "\n",
    "    # Leggi il CSV\n",
    "    df = pd.read_csv(csv_path)\n",
    "\n",
    "    # Inizializza le liste per le predizioni e i target\n",
    "    predictions = []\n",
    "    targets = []\n",
    "\n",
    "    # Itera attraverso i dati di test e fai previsioni\n",
    "    for index, row in tqdm(df.iterrows(), total=len(df), desc=\"Testing\"):\n",
    "        image_path = row['FilePath']  # Assicurati che il CSV abbia una colonna 'FilePath'\n",
    "        image = process_image(image_path).to(device)\n",
    "\n",
    "        with torch.no_grad():\n",
    "            outputs = model(image)\n",
    "            _, predicted = torch.max(outputs, 1)\n",
    "            predicted_label = 'Target' if predicted.item() == 1 else 'Non-Target'  # Mappa l'output del modello alle etichette nel CSV\n",
    "\n",
    "        predictions.append(predicted_label)\n",
    "        targets.append(row['Label'])  # Assicurati che il CSV abbia una colonna 'Label' con 'Target' e 'Non-Target'\n",
    "\n",
    "    test_accuracy, test_precision, test_recall, test_f1 = calculate_metrics(predictions, targets)\n",
    "    \n",
    "    name = model_path.split('/')[1]\n",
    "    save_metrics(test_accuracy, test_precision, test_recall, test_f1, f'test_results/{name}.csv')\n",
    "\n",
    "    # Stampa i risultati\n",
    "    print(f'Accuracy: {test_accuracy:.4f} - Precision: {test_precision:.4f} - Recall: {test_recall:.4f} - F1: {test_f1:.4f}')"
   ],
   "id": "cbf0120ed13059c5",
   "outputs": [],
   "execution_count": 54
  },
  {
   "metadata": {},
   "cell_type": "markdown",
   "source": "## Test con GoogLeNet",
   "id": "60ab1d59847b3d2e"
  },
  {
   "metadata": {
    "ExecuteTime": {
     "end_time": "2024-06-30T12:51:46.657945Z",
     "start_time": "2024-06-30T12:47:34.038130Z"
    }
   },
   "cell_type": "code",
   "source": "test_model('models/test1_google_net/best_model.pt', 'googlenet', 'binary')",
   "id": "c9bf0acd3d05d08c",
   "outputs": [
    {
     "name": "stderr",
     "output_type": "stream",
     "text": [
      "Testing: 100%|██████████| 7689/7689 [04:11<00:00, 30.52it/s]"
     ]
    },
    {
     "name": "stdout",
     "output_type": "stream",
     "text": [
      "Accuracy: 0.9952 - Precision: 0.9973 - Recall: 0.9974 - F1: 0.9974\n"
     ]
    },
    {
     "name": "stderr",
     "output_type": "stream",
     "text": [
      "\n"
     ]
    }
   ],
   "execution_count": 55
  },
  {
   "metadata": {
    "ExecuteTime": {
     "end_time": "2024-06-30T12:55:33.261492Z",
     "start_time": "2024-06-30T12:51:46.660462Z"
    }
   },
   "cell_type": "code",
   "source": "test_model('models/test2_google_net/best_model.pt', 'googlenet', 'weighted')",
   "id": "7cba64ce3d0c755e",
   "outputs": [
    {
     "name": "stderr",
     "output_type": "stream",
     "text": [
      "Testing: 100%|██████████| 7689/7689 [03:46<00:00, 34.00it/s]"
     ]
    },
    {
     "name": "stdout",
     "output_type": "stream",
     "text": [
      "Accuracy: 0.9945 - Precision: 0.9946 - Recall: 0.9945 - F1: 0.9945\n"
     ]
    },
    {
     "name": "stderr",
     "output_type": "stream",
     "text": [
      "\n"
     ]
    }
   ],
   "execution_count": 56
  },
  {
   "metadata": {
    "ExecuteTime": {
     "end_time": "2024-06-30T12:59:20.488307Z",
     "start_time": "2024-06-30T12:55:33.263310Z"
    }
   },
   "cell_type": "code",
   "source": "test_model('models/test3_google_net/best_model.pt', 'googlenet', 'macro')",
   "id": "537b51502761ada4",
   "outputs": [
    {
     "name": "stderr",
     "output_type": "stream",
     "text": [
      "Testing: 100%|██████████| 7689/7689 [03:46<00:00, 33.90it/s]"
     ]
    },
    {
     "name": "stdout",
     "output_type": "stream",
     "text": [
      "Accuracy: 0.9960 - Precision: 0.9899 - Recall: 0.9836 - F1: 0.9867\n"
     ]
    },
    {
     "name": "stderr",
     "output_type": "stream",
     "text": [
      "\n"
     ]
    }
   ],
   "execution_count": 57
  },
  {
   "metadata": {
    "ExecuteTime": {
     "end_time": "2024-06-30T13:03:17.237840Z",
     "start_time": "2024-06-30T12:59:20.492026Z"
    }
   },
   "cell_type": "code",
   "source": "test_model('models/test4_google_net/best_model.pt', 'googlenet', 'micro')",
   "id": "1b8227edcf287f48",
   "outputs": [
    {
     "name": "stderr",
     "output_type": "stream",
     "text": [
      "Testing: 100%|██████████| 7689/7689 [03:56<00:00, 32.53it/s]"
     ]
    },
    {
     "name": "stdout",
     "output_type": "stream",
     "text": [
      "Accuracy: 0.9949 - Precision: 0.9949 - Recall: 0.9949 - F1: 0.9949\n"
     ]
    },
    {
     "name": "stderr",
     "output_type": "stream",
     "text": [
      "\n"
     ]
    }
   ],
   "execution_count": 58
  },
  {
   "metadata": {},
   "cell_type": "markdown",
   "source": "## Test con AlexNet",
   "id": "426f7ce8e65dca01"
  },
  {
   "metadata": {
    "ExecuteTime": {
     "end_time": "2024-06-30T13:05:42.343823Z",
     "start_time": "2024-06-30T13:03:17.239898Z"
    }
   },
   "cell_type": "code",
   "source": "test_model('models/test5_alex_net/checkpoint_epoch_8.pt', 'alexnet', 'weighted')",
   "id": "f6c6f5914f707ab3",
   "outputs": [
    {
     "name": "stderr",
     "output_type": "stream",
     "text": [
      "Testing: 100%|██████████| 7689/7689 [02:24<00:00, 53.25it/s]\n"
     ]
    },
    {
     "name": "stdout",
     "output_type": "stream",
     "text": [
      "Accuracy: 0.9625 - Precision: 0.9755 - Recall: 0.9625 - F1: 0.9666\n"
     ]
    }
   ],
   "execution_count": 59
  }
 ],
 "metadata": {
  "kernelspec": {
   "display_name": "Python 3",
   "language": "python",
   "name": "python3"
  },
  "language_info": {
   "codemirror_mode": {
    "name": "ipython",
    "version": 2
   },
   "file_extension": ".py",
   "mimetype": "text/x-python",
   "name": "python",
   "nbconvert_exporter": "python",
   "pygments_lexer": "ipython2",
   "version": "2.7.6"
  }
 },
 "nbformat": 4,
 "nbformat_minor": 5
}
