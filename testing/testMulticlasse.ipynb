{
 "cells": [
  {
   "metadata": {
    "ExecuteTime": {
     "end_time": "2024-07-03T22:35:31.693279Z",
     "start_time": "2024-07-03T22:35:29.468877Z"
    }
   },
   "cell_type": "code",
   "source": "from testing.test import test_model",
   "id": "78391bc5a11a85a6",
   "outputs": [],
   "execution_count": 1
  },
  {
   "metadata": {},
   "cell_type": "markdown",
   "source": "# Test del modello con dataset bilanciato",
   "id": "ac6ac12f8590a579"
  },
  {
   "metadata": {
    "ExecuteTime": {
     "end_time": "2024-06-30T13:14:14.384326Z",
     "start_time": "2024-06-30T13:11:57.738188Z"
    }
   },
   "cell_type": "code",
   "source": "test_model('models/test11_alex_net_one_hot/best_model.pt', 'alexnet', 'weighted', num_classes=38, is_binary=False)",
   "id": "d2e1f67e18068411",
   "outputs": [
    {
     "name": "stderr",
     "output_type": "stream",
     "text": [
      "Testing: 100%|██████████| 7689/7689 [02:15<00:00, 56.60it/s]"
     ]
    },
    {
     "name": "stdout",
     "output_type": "stream",
     "text": [
      "Accuracy: 0.1275 - Precision: 0.1376 - Recall: 0.1275 - F1: 0.1297\n"
     ]
    },
    {
     "name": "stderr",
     "output_type": "stream",
     "text": [
      "\n"
     ]
    }
   ],
   "execution_count": 19
  },
  {
   "metadata": {},
   "cell_type": "markdown",
   "source": "# Test con dataset sbilanciato",
   "id": "d46054243ac7a76c"
  },
  {
   "metadata": {},
   "cell_type": "markdown",
   "source": "## GoogLeNet",
   "id": "fc6d1460ecd42286"
  },
  {
   "metadata": {
    "ExecuteTime": {
     "end_time": "2024-06-30T13:18:18.755935Z",
     "start_time": "2024-06-30T13:14:14.387314Z"
    }
   },
   "cell_type": "code",
   "source": "test_model('models/test17_google_net_one_hot_unbalanced/best_model.pt', 'googlenet', 'micro', num_classes=38, is_binary=False)",
   "id": "dc5d33e932047204",
   "outputs": [
    {
     "name": "stderr",
     "output_type": "stream",
     "text": [
      "Testing: 100%|██████████| 7689/7689 [04:03<00:00, 31.53it/s]"
     ]
    },
    {
     "name": "stdout",
     "output_type": "stream",
     "text": [
      "Accuracy: 0.1966 - Precision: 0.1966 - Recall: 0.1966 - F1: 0.1966\n"
     ]
    },
    {
     "name": "stderr",
     "output_type": "stream",
     "text": [
      "\n"
     ]
    }
   ],
   "execution_count": 20
  },
  {
   "metadata": {
    "ExecuteTime": {
     "end_time": "2024-06-30T13:59:18.623282Z",
     "start_time": "2024-06-30T13:55:32.813838Z"
    }
   },
   "cell_type": "code",
   "source": "test_model('models/test18_google_net_one_hot_unbalanced/best_model.pt', 'googlenet', 'weighted', num_classes=38, is_binary=False)",
   "id": "1a3da722c78bb76e",
   "outputs": [
    {
     "name": "stderr",
     "output_type": "stream",
     "text": [
      "Testing: 100%|██████████| 7689/7689 [03:45<00:00, 34.16it/s]"
     ]
    },
    {
     "name": "stdout",
     "output_type": "stream",
     "text": [
      "Accuracy: 0.2246 - Precision: 0.2326 - Recall: 0.2246 - F1: 0.2262\n"
     ]
    },
    {
     "name": "stderr",
     "output_type": "stream",
     "text": [
      "\n"
     ]
    }
   ],
   "execution_count": 29
  },
  {
   "metadata": {},
   "cell_type": "markdown",
   "source": "## AlexNet",
   "id": "4bcfa2675e3b0dcd"
  },
  {
   "metadata": {
    "ExecuteTime": {
     "end_time": "2024-06-30T13:24:20.006155Z",
     "start_time": "2024-06-30T13:22:04.634958Z"
    }
   },
   "cell_type": "code",
   "source": "test_model('models/test15_alex_net_one_hot_unbalanced/best_model.pt', 'alexnet', 'weighted', num_classes=38, is_binary=False)",
   "id": "78d2afa7fbaf4be0",
   "outputs": [
    {
     "name": "stderr",
     "output_type": "stream",
     "text": [
      "Testing: 100%|██████████| 7689/7689 [02:14<00:00, 57.27it/s]"
     ]
    },
    {
     "name": "stdout",
     "output_type": "stream",
     "text": [
      "Accuracy: 0.2367 - Precision: 0.2617 - Recall: 0.2367 - F1: 0.2419\n"
     ]
    },
    {
     "name": "stderr",
     "output_type": "stream",
     "text": [
      "\n"
     ]
    }
   ],
   "execution_count": 22
  },
  {
   "metadata": {
    "ExecuteTime": {
     "end_time": "2024-06-30T13:27:48.226880Z",
     "start_time": "2024-06-30T13:25:36.027618Z"
    }
   },
   "cell_type": "code",
   "source": "test_model('models/test16_alex_net_one_hot_unbalanced/best_model.pt', 'alexnet', 'micro', num_classes=38, is_binary=False)",
   "id": "abffc376071dd38f",
   "outputs": [
    {
     "name": "stderr",
     "output_type": "stream",
     "text": [
      "Testing: 100%|██████████| 7689/7689 [02:11<00:00, 58.56it/s]"
     ]
    },
    {
     "name": "stdout",
     "output_type": "stream",
     "text": [
      "Accuracy: 0.2424 - Precision: 0.2424 - Recall: 0.2424 - F1: 0.2424\n"
     ]
    },
    {
     "name": "stderr",
     "output_type": "stream",
     "text": [
      "\n"
     ]
    }
   ],
   "execution_count": 25
  },
  {
   "metadata": {},
   "cell_type": "markdown",
   "source": "## ResNet50",
   "id": "3f613512fc5a881d"
  },
  {
   "metadata": {
    "ExecuteTime": {
     "end_time": "2024-06-30T13:34:35.534293Z",
     "start_time": "2024-06-30T13:30:48.092642Z"
    }
   },
   "cell_type": "code",
   "source": "test_model('models/test13_res_net_one_hot_unbalanced/best_model.pt', 'resnet50', 'weighted', num_classes=38, is_binary=False)",
   "id": "b7833fd8ae0fae75",
   "outputs": [
    {
     "name": "stderr",
     "output_type": "stream",
     "text": [
      "Testing: 100%|██████████| 7689/7689 [03:46<00:00, 34.00it/s]"
     ]
    },
    {
     "name": "stdout",
     "output_type": "stream",
     "text": [
      "Accuracy: 0.1630 - Precision: 0.2651 - Recall: 0.1630 - F1: 0.1883\n"
     ]
    },
    {
     "name": "stderr",
     "output_type": "stream",
     "text": [
      "\n"
     ]
    }
   ],
   "execution_count": 27
  },
  {
   "metadata": {
    "ExecuteTime": {
     "end_time": "2024-06-30T13:38:18.219369Z",
     "start_time": "2024-06-30T13:34:35.536806Z"
    }
   },
   "cell_type": "code",
   "source": "test_model('models/test14_res_net_one_hot_unbalanced/best_model.pt', 'resnet50', 'micro', num_classes=38, is_binary=False)",
   "id": "8700fd19bc7de374",
   "outputs": [
    {
     "name": "stderr",
     "output_type": "stream",
     "text": [
      "Testing: 100%|██████████| 7689/7689 [03:41<00:00, 34.66it/s]"
     ]
    },
    {
     "name": "stdout",
     "output_type": "stream",
     "text": [
      "Accuracy: 0.1857 - Precision: 0.1857 - Recall: 0.1857 - F1: 0.1857\n"
     ]
    },
    {
     "name": "stderr",
     "output_type": "stream",
     "text": [
      "\n"
     ]
    }
   ],
   "execution_count": 28
  }
 ],
 "metadata": {
  "kernelspec": {
   "display_name": "Python 3",
   "language": "python",
   "name": "python3"
  },
  "language_info": {
   "codemirror_mode": {
    "name": "ipython",
    "version": 2
   },
   "file_extension": ".py",
   "mimetype": "text/x-python",
   "name": "python",
   "nbconvert_exporter": "python",
   "pygments_lexer": "ipython2",
   "version": "2.7.6"
  }
 },
 "nbformat": 4,
 "nbformat_minor": 5
}
