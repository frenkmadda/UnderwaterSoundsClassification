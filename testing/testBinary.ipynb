{
 "cells": [
  {
   "metadata": {
    "ExecuteTime": {
     "end_time": "2024-07-03T22:35:24.188412Z",
     "start_time": "2024-07-03T22:35:22.249056Z"
    }
   },
   "cell_type": "code",
   "source": "from testing.test import test_model",
   "id": "1541b8e998271917",
   "outputs": [],
   "execution_count": 1
  },
  {
   "metadata": {},
   "cell_type": "markdown",
   "source": "## Test con GoogLeNet",
   "id": "60ab1d59847b3d2e"
  },
  {
   "metadata": {
    "ExecuteTime": {
     "end_time": "2024-06-30T12:51:46.657945Z",
     "start_time": "2024-06-30T12:47:34.038130Z"
    }
   },
   "cell_type": "code",
   "source": "test_model('models/test1_google_net/best_model.pt', 'googlenet', 'binary', num_classes=2, is_binary=True)",
   "id": "c9bf0acd3d05d08c",
   "outputs": [
    {
     "name": "stderr",
     "output_type": "stream",
     "text": [
      "Testing: 100%|██████████| 7689/7689 [04:11<00:00, 30.52it/s]"
     ]
    },
    {
     "name": "stdout",
     "output_type": "stream",
     "text": [
      "Accuracy: 0.9952 - Precision: 0.9973 - Recall: 0.9974 - F1: 0.9974\n"
     ]
    },
    {
     "name": "stderr",
     "output_type": "stream",
     "text": [
      "\n"
     ]
    }
   ],
   "execution_count": 55
  },
  {
   "metadata": {
    "ExecuteTime": {
     "end_time": "2024-06-30T12:55:33.261492Z",
     "start_time": "2024-06-30T12:51:46.660462Z"
    }
   },
   "cell_type": "code",
   "source": "test_model('models/test2_google_net/best_model.pt', 'googlenet', 'weighted', num_classes=2, is_binary=True)",
   "id": "7cba64ce3d0c755e",
   "outputs": [
    {
     "name": "stderr",
     "output_type": "stream",
     "text": [
      "Testing: 100%|██████████| 7689/7689 [03:46<00:00, 34.00it/s]"
     ]
    },
    {
     "name": "stdout",
     "output_type": "stream",
     "text": [
      "Accuracy: 0.9945 - Precision: 0.9946 - Recall: 0.9945 - F1: 0.9945\n"
     ]
    },
    {
     "name": "stderr",
     "output_type": "stream",
     "text": [
      "\n"
     ]
    }
   ],
   "execution_count": 56
  },
  {
   "metadata": {
    "ExecuteTime": {
     "end_time": "2024-06-30T12:59:20.488307Z",
     "start_time": "2024-06-30T12:55:33.263310Z"
    }
   },
   "cell_type": "code",
   "source": "test_model('models/test3_google_net/best_model.pt', 'googlenet', 'macro', num_classes=2, is_binary=True)",
   "id": "537b51502761ada4",
   "outputs": [
    {
     "name": "stderr",
     "output_type": "stream",
     "text": [
      "Testing: 100%|██████████| 7689/7689 [03:46<00:00, 33.90it/s]"
     ]
    },
    {
     "name": "stdout",
     "output_type": "stream",
     "text": [
      "Accuracy: 0.9960 - Precision: 0.9899 - Recall: 0.9836 - F1: 0.9867\n"
     ]
    },
    {
     "name": "stderr",
     "output_type": "stream",
     "text": [
      "\n"
     ]
    }
   ],
   "execution_count": 57
  },
  {
   "metadata": {
    "ExecuteTime": {
     "end_time": "2024-06-30T13:03:17.237840Z",
     "start_time": "2024-06-30T12:59:20.492026Z"
    }
   },
   "cell_type": "code",
   "source": "test_model('models/test4_google_net/best_model.pt', 'googlenet', 'micro', num_classes=2, is_binary=True)",
   "id": "1b8227edcf287f48",
   "outputs": [
    {
     "name": "stderr",
     "output_type": "stream",
     "text": [
      "Testing: 100%|██████████| 7689/7689 [03:56<00:00, 32.53it/s]"
     ]
    },
    {
     "name": "stdout",
     "output_type": "stream",
     "text": [
      "Accuracy: 0.9949 - Precision: 0.9949 - Recall: 0.9949 - F1: 0.9949\n"
     ]
    },
    {
     "name": "stderr",
     "output_type": "stream",
     "text": [
      "\n"
     ]
    }
   ],
   "execution_count": 58
  },
  {
   "metadata": {},
   "cell_type": "markdown",
   "source": "## Test con AlexNet",
   "id": "426f7ce8e65dca01"
  },
  {
   "metadata": {
    "ExecuteTime": {
     "end_time": "2024-06-30T13:05:42.343823Z",
     "start_time": "2024-06-30T13:03:17.239898Z"
    }
   },
   "cell_type": "code",
   "source": "test_model('models/test5_alex_net/checkpoint_epoch_8.pt', 'alexnet', 'weighted', num_classes=2, is_binary=True)",
   "id": "f6c6f5914f707ab3",
   "outputs": [
    {
     "name": "stderr",
     "output_type": "stream",
     "text": [
      "Testing: 100%|██████████| 7689/7689 [02:24<00:00, 53.25it/s]\n"
     ]
    },
    {
     "name": "stdout",
     "output_type": "stream",
     "text": [
      "Accuracy: 0.9625 - Precision: 0.9755 - Recall: 0.9625 - F1: 0.9666\n"
     ]
    }
   ],
   "execution_count": 59
  }
 ],
 "metadata": {
  "kernelspec": {
   "display_name": "Python 3",
   "language": "python",
   "name": "python3"
  },
  "language_info": {
   "codemirror_mode": {
    "name": "ipython",
    "version": 2
   },
   "file_extension": ".py",
   "mimetype": "text/x-python",
   "name": "python",
   "nbconvert_exporter": "python",
   "pygments_lexer": "ipython2",
   "version": "2.7.6"
  }
 },
 "nbformat": 4,
 "nbformat_minor": 5
}
