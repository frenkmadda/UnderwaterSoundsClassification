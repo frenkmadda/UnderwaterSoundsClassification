{
 "cells": [
  {
   "cell_type": "code",
   "id": "initial_id",
   "metadata": {
    "collapsed": true,
    "ExecuteTime": {
     "end_time": "2024-06-29T10:22:10.185991Z",
     "start_time": "2024-06-29T10:22:08.733617Z"
    }
   },
   "source": [
    "import utils\n",
    "from utils_data_augmentation import *"
   ],
   "outputs": [],
   "execution_count": 1
  },
  {
   "metadata": {},
   "cell_type": "markdown",
   "source": [
    "## Attempt to reduce data dimensionality with Structural Similarity Index (SSIM)\n",
    "The entire code is in the file utils.py, it was not reported here because it is refered to an attempt that didn't brought to any result we wanted to keep.\n",
    "The idea was to remove all the images with an SSIM of 0.95 or higher from the classes with more than 500 elements.\n",
    "The results were not as expected, so we decided to keep all the images."
   ],
   "id": "3bc7478038e4f294"
  },
  {
   "metadata": {
    "ExecuteTime": {
     "end_time": "2024-06-22T17:01:25.622388Z",
     "start_time": "2024-06-22T17:01:25.493168Z"
    }
   },
   "cell_type": "code",
   "source": "utils.create_csv_for_folders('Spettrogrammi/Target/', 8)",
   "id": "5f05cb6ef3ef1ddc",
   "outputs": [],
   "execution_count": 2
  },
  {
   "metadata": {
    "ExecuteTime": {
     "end_time": "2024-06-22T17:01:25.675920Z",
     "start_time": "2024-06-22T17:01:25.623385Z"
    }
   },
   "cell_type": "code",
   "source": "utils.create_csv_for_folders('Spettrogrammi/Non-Target/', 8)",
   "id": "af2fa57660b1af71",
   "outputs": [],
   "execution_count": 3
  },
  {
   "metadata": {},
   "cell_type": "code",
   "source": "utils.merge_csv_files('Spettrogrammi/Target/dati ssim/SSIM', 'Spettrogrammi/Target/ssim_results.csv')",
   "id": "bef62321cb6b7af0",
   "outputs": [],
   "execution_count": null
  },
  {
   "metadata": {
    "ExecuteTime": {
     "end_time": "2024-06-22T17:01:39.797626Z",
     "start_time": "2024-06-22T17:01:39.797558Z"
    }
   },
   "cell_type": "code",
   "source": "utils.merge_csv_files('Spettrogrammi/Non-Target/dati ssim/SSIM', 'Spettrogrammi/Non-Target/ssim_results.csv')",
   "id": "f37899597f9a2b81",
   "outputs": [],
   "execution_count": null
  },
  {
   "metadata": {},
   "cell_type": "code",
   "source": [
    "df_non_target = pd.read_csv('Spettrogrammi/Non-Target/ssim_results.csv')\n",
    "pd.set_option('display.float_format', '{:.3f}'.format)\n",
    "df_non_target.describe()"
   ],
   "id": "ce834f6db4d0fd3f",
   "outputs": [],
   "execution_count": null
  },
  {
   "metadata": {},
   "cell_type": "code",
   "source": [
    "df_target = pd.read_csv('Spettrogrammi/Target/ssim_results.csv')\n",
    "pd.set_option('display.float_format', '{:.3f}'.format)\n",
    "df_target.describe()"
   ],
   "id": "a3f75c405ea93b2",
   "outputs": [],
   "execution_count": null
  },
  {
   "metadata": {},
   "cell_type": "code",
   "source": [
    "df_non_target = pd.read_csv('Spettrogrammi/Non-Target/df_paths.csv')\n",
    "df_target = pd.read_csv('Spettrogrammi/Target/df_paths.csv')\n",
    "\n",
    "df_non_target.to_csv('final_dataset/df_paths_non_target.csv', index=False)\n",
    "df_target.to_csv('final_dataset/df_paths_target.csv', index=False)"
   ],
   "id": "da620f328499072f",
   "outputs": [],
   "execution_count": null
  },
  {
   "metadata": {},
   "cell_type": "markdown",
   "source": "# Split Dataset in Train, validation e Test",
   "id": "4933a3fff07a8326"
  },
  {
   "metadata": {},
   "cell_type": "markdown",
   "source": "### Extracted the numbers of audios for each classes in order to avoid splitting the same audio in the different sets and removed the classes with less than 8 audios.",
   "id": "80ddef7a1495b63d"
  },
  {
   "metadata": {},
   "cell_type": "markdown",
   "source": "The results of the operations slightly changes if executed on MacOS or Windows because of how different OS handle the files.",
   "id": "4fc577a139dd9dd6"
  },
  {
   "metadata": {
    "ExecuteTime": {
     "end_time": "2024-06-23T22:51:43.354766Z",
     "start_time": "2024-06-23T22:51:43.262094Z"
    }
   },
   "cell_type": "code",
   "source": [
    "df_target = pd.read_csv('Spettrogrammi/Target/df_paths.csv')\n",
    "df_non_target = pd.read_csv('Spettrogrammi/Non-Target/df_paths.csv')"
   ],
   "id": "8deaf93570f90ceb",
   "outputs": [],
   "execution_count": 2
  },
  {
   "metadata": {
    "ExecuteTime": {
     "end_time": "2024-06-23T22:51:44.118061Z",
     "start_time": "2024-06-23T22:51:43.980650Z"
    }
   },
   "cell_type": "code",
   "source": [
    "utils.estrai_info_da_csv('Spettrogrammi/Target/df_paths.csv', 'Spettrogrammi/Target/df_class_num.csv')\n",
    "utils.estrai_info_da_csv('Spettrogrammi/Non-Target/df_paths.csv', 'Spettrogrammi/Non-Target/df_class_num.csv')"
   ],
   "id": "74be40225d8d8f13",
   "outputs": [],
   "execution_count": 3
  },
  {
   "metadata": {
    "ExecuteTime": {
     "end_time": "2024-06-23T22:51:45.666605Z",
     "start_time": "2024-06-23T22:51:45.440200Z"
    }
   },
   "cell_type": "code",
   "source": [
    "utils.filter_csv('Spettrogrammi/Target/df_class_num.csv', 'Spettrogrammi/Target/df_paths.csv', 'Spettrogrammi/Target/df_paths_filtered.csv')\n",
    "utils.filter_csv('Spettrogrammi/Non-Target/df_class_num.csv', 'Spettrogrammi/Non-Target/df_paths.csv', 'Spettrogrammi/Non-Target/df_paths_filtered.csv')"
   ],
   "id": "df7a96176616f033",
   "outputs": [],
   "execution_count": 4
  },
  {
   "metadata": {
    "ExecuteTime": {
     "end_time": "2024-06-23T22:51:46.412636Z",
     "start_time": "2024-06-23T22:51:46.401751Z"
    }
   },
   "cell_type": "code",
   "source": [
    "def split_files_into_sets(input_csv_path, train_csv_path, val_csv_path, test_csv_path):\n",
    "    \"\"\"\n",
    "    Split the files in the input CSV into training, validation, and test sets.\n",
    "    \n",
    "    :param input_csv_path: the path to the input CSV file\n",
    "    :param train_csv_path: the path to the output training CSV file\n",
    "    :param val_csv_path: the path to the output validation CSV file\n",
    "    :param test_csv_path: the path to the output test CSV file\n",
    "    :return: None\n",
    "    \"\"\"\n",
    "    np.random.seed(0)\n",
    "\n",
    "    df = pd.read_csv(input_csv_path)\n",
    "\n",
    "    df['File'] = df['FilePath'].apply(lambda x: x.split('_resampled')[0])\n",
    "\n",
    "    df['Set'] = ''\n",
    "\n",
    "    grouped = df.groupby('Classe')\n",
    "\n",
    "    for name, group in grouped:\n",
    "        unique_files = group['File'].unique()\n",
    "\n",
    "        train_size = int(0.8 * len(unique_files))\n",
    "        val_size = int(0.1 * len(unique_files))\n",
    "        test_size = len(unique_files) - train_size - val_size\n",
    "\n",
    "        file_sets = ['train'] * train_size + ['val'] * val_size + ['test'] * test_size\n",
    "\n",
    "        np.random.shuffle(file_sets)\n",
    "\n",
    "        file_to_set = dict(zip(unique_files, file_sets))\n",
    "\n",
    "        df.loc[group.index, 'Set'] = group['File'].apply(lambda x: file_to_set[x])\n",
    "\n",
    "    df_train = df[df['Set'] == 'train']\n",
    "    df_val = df[df['Set'] == 'val']\n",
    "    df_test = df[df['Set'] == 'test']\n",
    "\n",
    "    os.makedirs(os.path.dirname(train_csv_path), exist_ok=True)\n",
    "    os.makedirs(os.path.dirname(val_csv_path), exist_ok=True)\n",
    "    os.makedirs(os.path.dirname(test_csv_path), exist_ok=True)\n",
    "\n",
    "    df_train.to_csv(train_csv_path, index=False)\n",
    "    df_val.to_csv(val_csv_path, index=False)\n",
    "    df_test.to_csv(test_csv_path, index=False)"
   ],
   "id": "ea654381177c9d9a",
   "outputs": [],
   "execution_count": 5
  },
  {
   "metadata": {
    "ExecuteTime": {
     "end_time": "2024-06-22T17:14:06.936988Z",
     "start_time": "2024-06-22T17:14:06.738140Z"
    }
   },
   "cell_type": "code",
   "source": "split_files_into_sets('Spettrogrammi/Target/df_paths_filtered.csv', 'final_dataset/training/df_paths_target_train.csv', 'final_dataset/validation/df_paths_target_val.csv', 'final_dataset/test/df_paths_target_test.csv')",
   "id": "ae9b5f9d34c0df64",
   "outputs": [],
   "execution_count": 33
  },
  {
   "metadata": {
    "ExecuteTime": {
     "end_time": "2024-06-22T17:14:06.980848Z",
     "start_time": "2024-06-22T17:14:06.938185Z"
    }
   },
   "cell_type": "code",
   "source": "split_files_into_sets('Spettrogrammi/Non-Target/df_paths_filtered.csv', 'final_dataset/training/df_paths_non_target_train.csv', 'final_dataset/validation/df_paths_non_target_val.csv', 'final_dataset/test/df_paths_non_target_test.csv')",
   "id": "c344d61e486cbb3b",
   "outputs": [],
   "execution_count": 34
  },
  {
   "metadata": {},
   "cell_type": "markdown",
   "source": "### Distribuzione dei file nel training set",
   "id": "c0033897eda86da5"
  },
  {
   "metadata": {
    "ExecuteTime": {
     "end_time": "2024-06-24T15:19:27.158040Z",
     "start_time": "2024-06-24T15:19:27.061655Z"
    }
   },
   "cell_type": "code",
   "source": [
    "pd.set_option('display.max_rows', None)\n",
    "df_train_target = pd.read_csv('final_dataset/training/df_paths_target_train.csv')\n",
    "max_target = np.max(df_train_target['Classe'].value_counts())\n",
    "max_target"
   ],
   "id": "e6f67d7cfd2bf6eb",
   "outputs": [
    {
     "data": {
      "text/plain": [
       "12339"
      ]
     },
     "execution_count": 2,
     "metadata": {},
     "output_type": "execute_result"
    }
   ],
   "execution_count": 2
  },
  {
   "metadata": {
    "ExecuteTime": {
     "end_time": "2024-06-24T15:19:27.176961Z",
     "start_time": "2024-06-24T15:19:27.159120Z"
    }
   },
   "cell_type": "code",
   "source": [
    "pd.set_option('display.max_rows', None)\n",
    "df_train_non_target = pd.read_csv('final_dataset/training/df_paths_non_target_train.csv')\n",
    "max_non_target = np.max(df_train_non_target['Classe'].value_counts())\n",
    "max_non_target"
   ],
   "id": "efbf6d68b5295ff3",
   "outputs": [
    {
     "data": {
      "text/plain": [
       "1822"
      ]
     },
     "execution_count": 3,
     "metadata": {},
     "output_type": "execute_result"
    }
   ],
   "execution_count": 3
  },
  {
   "metadata": {
    "ExecuteTime": {
     "end_time": "2024-06-24T15:19:27.186542Z",
     "start_time": "2024-06-24T15:19:27.178972Z"
    }
   },
   "cell_type": "code",
   "source": "df_train_target['Classe'].value_counts()",
   "id": "808350484cc560ab",
   "outputs": [
    {
     "data": {
      "text/plain": [
       "Classe\n",
       "Tanker           12339\n",
       "Passengership    11258\n",
       "Tug              10727\n",
       "Cargo            10169\n",
       "Vessel             170\n",
       "Name: count, dtype: int64"
      ]
     },
     "execution_count": 4,
     "metadata": {},
     "output_type": "execute_result"
    }
   ],
   "execution_count": 4
  },
  {
   "metadata": {
    "ExecuteTime": {
     "end_time": "2024-06-24T15:19:27.193910Z",
     "start_time": "2024-06-24T15:19:27.188345Z"
    }
   },
   "cell_type": "code",
   "source": "df_train_non_target['Classe'].value_counts()",
   "id": "85c2ec40767e46a2",
   "outputs": [
    {
     "data": {
      "text/plain": [
       "Classe\n",
       "Sperm Whale                           1822\n",
       "Humpback Whale                        1657\n",
       "Fin, Finback Whale                     818\n",
       "Soundscape                             239\n",
       "Fraser_s Dolphin                       224\n",
       "Long-Finned Pilot Whale                191\n",
       "Short-Finned (Pacific) Pilot Whale     177\n",
       "Grampus, Risso_s Dolphin               139\n",
       "Killer Whale                           133\n",
       "Spinner Dolphin                        129\n",
       "Striped Dolphin                        128\n",
       "Common Dolphin                         111\n",
       "Bowhead Whale                          107\n",
       "Melon Headed Whale                      85\n",
       "Walrus                                  77\n",
       "Bearded Seal                            75\n",
       "Atlantic Spotted Dolphin                71\n",
       "White-sided Dolphin                     70\n",
       "Harp Seal                               69\n",
       "Ross Seal                               69\n",
       "Clymene Dolphin                         68\n",
       "Pantropical Spotted Dolphin             67\n",
       "Beluga, White Whale                     65\n",
       "Northern Right Whale                    65\n",
       "White-beaked Dolphin                    57\n",
       "False Killer Whale                      55\n",
       "Odontocete                              47\n",
       "Narwhal                                 43\n",
       "Minke Whale                             43\n",
       "Rough-Toothed Dolphin                   40\n",
       "Southern Right Whale                    27\n",
       "Leopard Seal                            26\n",
       "Bottlenose Dolphin                      22\n",
       "Name: count, dtype: int64"
      ]
     },
     "execution_count": 5,
     "metadata": {},
     "output_type": "execute_result"
    }
   ],
   "execution_count": 5
  },
  {
   "metadata": {},
   "cell_type": "markdown",
   "source": "## Data Augmentation",
   "id": "3a39ffce09c9e0fc"
  },
  {
   "metadata": {
    "ExecuteTime": {
     "end_time": "2024-06-24T15:52:31.808007Z",
     "start_time": "2024-06-24T15:19:46.053955Z"
    }
   },
   "cell_type": "code",
   "source": "process_csv('final_dataset/training/df_paths_target_train.csv', 'final_dataset/training', df_train_target['Classe'].value_counts())",
   "id": "85b7192789ea814f",
   "outputs": [
    {
     "name": "stderr",
     "output_type": "stream",
     "text": [
      "Processing images: 100%|██████████| 44663/44663 [10:17<00:00, 72.31it/s]  \n",
      "Processing images: 100%|██████████| 44663/44663 [01:33<00:00, 477.31it/s]  \n",
      "Processing images: 100%|██████████| 44663/44663 [01:33<00:00, 475.43it/s]  \n",
      "Processing images: 100%|██████████| 44663/44663 [01:33<00:00, 476.48it/s]  \n",
      "Processing images: 100%|██████████| 44663/44663 [01:36<00:00, 464.65it/s]  \n",
      "Processing images: 100%|██████████| 44663/44663 [01:42<00:00, 434.57it/s]  \n",
      "Processing images: 100%|██████████| 44663/44663 [01:39<00:00, 449.57it/s]  \n",
      "Processing images: 100%|██████████| 44663/44663 [01:33<00:00, 479.05it/s]  \n",
      "Processing images: 100%|██████████| 44663/44663 [01:39<00:00, 450.77it/s]  \n",
      "Processing images: 100%|██████████| 44663/44663 [01:44<00:00, 425.69it/s]  \n",
      "Processing images: 100%|██████████| 44663/44663 [01:48<00:00, 411.13it/s]  \n",
      "Processing images: 100%|██████████| 44663/44663 [01:49<00:00, 407.58it/s]  \n",
      "Processing images: 100%|██████████| 44663/44663 [01:49<00:00, 408.62it/s]  \n",
      "Processing images: 100%|██████████| 44663/44663 [01:47<00:00, 415.73it/s]  \n",
      "Processing images: 100%|██████████| 44663/44663 [00:36<00:00, 1230.89it/s] \n"
     ]
    }
   ],
   "execution_count": 7
  },
  {
   "metadata": {},
   "cell_type": "markdown",
   "source": [
    "- bilanciare\n",
    "- pregare che funzioni"
   ],
   "id": "c5f7eeb2e0760605"
  },
  {
   "metadata": {
    "ExecuteTime": {
     "end_time": "2024-06-24T16:28:59.016107Z",
     "start_time": "2024-06-24T16:28:38.882331Z"
    }
   },
   "cell_type": "code",
   "source": "add_rows_to_csv('final_dataset/training/Target', 'final_dataset/training/df_paths_target_train.csv', 'final_dataset/training/new_df_paths_target_train.csv')",
   "id": "99eee970c454916c",
   "outputs": [],
   "execution_count": 40
  },
  {
   "metadata": {
    "ExecuteTime": {
     "end_time": "2024-06-24T16:29:52.610264Z",
     "start_time": "2024-06-24T16:28:59.017407Z"
    }
   },
   "cell_type": "code",
   "source": "add_rows_to_csv('final_dataset/training/Non-Target', 'final_dataset/training/df_paths_non_target_train.csv', 'final_dataset/training/new_df_paths_non_target_train.csv')",
   "id": "328e73df722ea7f8",
   "outputs": [],
   "execution_count": 41
  },
  {
   "metadata": {
    "ExecuteTime": {
     "end_time": "2024-06-24T17:04:37.694911Z",
     "start_time": "2024-06-24T17:04:36.972284Z"
    }
   },
   "cell_type": "code",
   "source": "merge_csv_files('final_dataset/training/new_df_paths_target_train.csv', 'final_dataset/training/new_df_paths_non_target_train.csv', 'final_dataset/training/df_paths_train.csv')",
   "id": "820cdc09a254a5a8",
   "outputs": [],
   "execution_count": 71
  },
  {
   "metadata": {},
   "cell_type": "code",
   "outputs": [
    {
     "name": "stderr",
     "output_type": "stream",
     "text": [
      "Processing images: 100%|██████████| 121821/121821 [01:21<00:00, 1495.76it/s] \n"
     ]
    }
   ],
   "execution_count": 88,
   "source": "process_csv_merge('final_dataset/training/df_paths_train.csv', 'final_dataset/training/', df_train_target['Label'].value_counts())",
   "id": "a8fd9b27f0ec4778"
  },
  {
   "metadata": {
    "ExecuteTime": {
     "end_time": "2024-06-24T17:15:35.875875Z",
     "start_time": "2024-06-24T17:14:53.912452Z"
    }
   },
   "cell_type": "code",
   "source": "add_rows_to_csv('final_dataset/training/Non-Target', 'final_dataset/training/df_paths_non_target_train.csv', 'final_dataset/training/new_df_paths_non_target_train.csv')",
   "id": "162923608478f806",
   "outputs": [],
   "execution_count": 96
  },
  {
   "metadata": {
    "ExecuteTime": {
     "end_time": "2024-06-24T17:16:37.534017Z",
     "start_time": "2024-06-24T17:16:37.022028Z"
    }
   },
   "cell_type": "code",
   "source": "merge_csv_files('final_dataset/training/new_df_paths_target_train.csv', 'final_dataset/training/new_df_paths_non_target_train.csv', 'final_dataset/training/df_paths_train.csv')",
   "id": "52ccf97b4f9e8d9d",
   "outputs": [],
   "execution_count": 97
  },
  {
   "metadata": {
    "ExecuteTime": {
     "end_time": "2024-06-24T17:16:42.623448Z",
     "start_time": "2024-06-24T17:16:42.416017Z"
    }
   },
   "cell_type": "code",
   "source": [
    "pd.set_option('display.max_rows', None)\n",
    "df_train_target = pd.read_csv('final_dataset/training/df_paths_train.csv')\n",
    "# df_train_target\n",
    "max_target = np.max(df_train_target['Label'].value_counts())\n",
    "max_target"
   ],
   "id": "925e03861f1d952e",
   "outputs": [
    {
     "data": {
      "text/plain": [
       "61695"
      ]
     },
     "execution_count": 98,
     "metadata": {},
     "output_type": "execute_result"
    }
   ],
   "execution_count": 98
  },
  {
   "metadata": {
    "ExecuteTime": {
     "end_time": "2024-06-24T17:16:45.125966Z",
     "start_time": "2024-06-24T17:16:45.119599Z"
    }
   },
   "cell_type": "code",
   "source": "df_train_target['Label'].value_counts()",
   "id": "8d4e61d03abca36d",
   "outputs": [
    {
     "data": {
      "text/plain": [
       "Label\n",
       "Non-Target    61695\n",
       "Target        61695\n",
       "Name: count, dtype: int64"
      ]
     },
     "execution_count": 99,
     "metadata": {},
     "output_type": "execute_result"
    }
   ],
   "execution_count": 99
  },
  {
   "metadata": {
    "ExecuteTime": {
     "end_time": "2024-06-26T13:27:55.978073Z",
     "start_time": "2024-06-26T13:27:55.928731Z"
    }
   },
   "cell_type": "code",
   "source": [
    "# Unione file csv per il validation set\n",
    "merge_csv_files('final_dataset/validation/df_paths_target_val.csv', 'final_dataset/validation/df_paths_non_target_val.csv', 'final_dataset/validation/df_paths_val.csv')"
   ],
   "id": "7eeffe999a3f9ceb",
   "outputs": [],
   "execution_count": 4
  },
  {
   "metadata": {
    "ExecuteTime": {
     "end_time": "2024-06-26T14:57:43.755156Z",
     "start_time": "2024-06-26T14:57:43.541523Z"
    }
   },
   "cell_type": "code",
   "source": "count_files_in_folder('/Users/daniela/Library/CloudStorage/OneDrive-UniversitàdiSalerno/I Anno/Secondo Semestre/Fondamenti di Visione Artificiale e Biometria/Progetto/biometria/final_dataset/Non-Target')",
   "id": "91b4ba2ad3ff52c1",
   "outputs": [
    {
     "data": {
      "text/plain": [
       "54679"
      ]
     },
     "execution_count": 6,
     "metadata": {},
     "output_type": "execute_result"
    }
   ],
   "execution_count": 6
  },
  {
   "metadata": {
    "ExecuteTime": {
     "end_time": "2024-06-28T14:59:27.316025Z",
     "start_time": "2024-06-28T14:59:26.438257Z"
    }
   },
   "cell_type": "code",
   "source": "merge_csv_files('final_dataset/training/df_paths_target_train.csv', 'final_dataset/training/df_paths_non_target_train.csv', 'final_dataset/training/df_paths_train_clean.csv')",
   "id": "4de4a351c795a1b5",
   "outputs": [],
   "execution_count": 4
  },
  {
   "metadata": {
    "ExecuteTime": {
     "end_time": "2024-06-29T10:22:27.568998Z",
     "start_time": "2024-06-29T10:22:27.436949Z"
    }
   },
   "cell_type": "code",
   "source": "merge_csv_files('final_dataset/test/df_paths_target_test.csv', 'final_dataset/test/df_paths_non_target_test.csv', 'final_dataset/test/df_paths_test.csv')",
   "id": "a9bb587005cd6290",
   "outputs": [],
   "execution_count": 3
  }
 ],
 "metadata": {
  "kernelspec": {
   "display_name": "Python 3",
   "language": "python",
   "name": "python3"
  },
  "language_info": {
   "codemirror_mode": {
    "name": "ipython",
    "version": 2
   },
   "file_extension": ".py",
   "mimetype": "text/x-python",
   "name": "python",
   "nbconvert_exporter": "python",
   "pygments_lexer": "ipython2",
   "version": "2.7.6"
  }
 },
 "nbformat": 4,
 "nbformat_minor": 5
}
