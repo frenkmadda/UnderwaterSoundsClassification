{
 "cells": [
  {
   "metadata": {
    "ExecuteTime": {
     "end_time": "2024-06-30T13:11:57.706163Z",
     "start_time": "2024-06-30T13:11:57.702862Z"
    }
   },
   "cell_type": "code",
   "source": [
    "import torch\n",
    "import torch.nn as nn\n",
    "import torchvision.transforms as transforms\n",
    "import torchvision.models as models\n",
    "from PIL import Image\n",
    "import pandas as pd\n",
    "from tqdm import tqdm  # Per la barra di caricamento\n",
    "import platform\n",
    "from torchvision.models import AlexNet_Weights, GoogLeNet_Weights\n",
    "from sklearn.metrics import accuracy_score, precision_score, recall_score, f1_score\n",
    "import csv\n"
   ],
   "id": "c571dc129b04938d",
   "outputs": [],
   "execution_count": 17
  },
  {
   "metadata": {
    "ExecuteTime": {
     "end_time": "2024-06-30T13:11:57.732540Z",
     "start_time": "2024-06-30T13:11:57.720965Z"
    }
   },
   "cell_type": "code",
   "source": [
    "def test_model(model_path, type, average, num_classes=38):\n",
    "    # Percorso al CSV (puoi definirlo qui)\n",
    "    csv_path = 'final_dataset/test/df_paths_test.csv'\n",
    "\n",
    "    # Funzione per caricare il modello\n",
    "    def load_model(model_path, device):\n",
    "        if type == 'googlenet':\n",
    "            model = models.googlenet(weights=GoogLeNet_Weights.IMAGENET1K_V1)\n",
    "            model.fc = nn.Linear(model.fc.in_features, num_classes)  # Modifica il classificatore finale\n",
    "            model.aux1 = None  # Disabilita le teste ausiliarie\n",
    "            model.aux2 = None\n",
    "        elif type == 'alexnet':\n",
    "            model = models.alexnet(weights=AlexNet_Weights.IMAGENET1K_V1)\n",
    "            model.classifier[6] = nn.Linear(model.classifier[6].in_features, num_classes)  # Modifica il classificatore finale\n",
    "        elif type == 'resnet50':\n",
    "            model = models.resnet50(weights=models.ResNet50_Weights.DEFAULT)\n",
    "            num_ftrs = model.fc.in_features\n",
    "            model.fc = nn.Linear(num_ftrs, num_classes)\n",
    "        \n",
    "        model.load_state_dict(torch.load(model_path, map_location=device))\n",
    "        model.to(device)\n",
    "        model.eval()\n",
    "        return model\n",
    "\n",
    "    # Funzione per caricare un'immagine e applicare le trasformazioni\n",
    "    def process_image(image_path):\n",
    "        transform = transforms.Compose([\n",
    "            transforms.Resize((224, 224)),\n",
    "            transforms.ToTensor(),\n",
    "            transforms.Normalize(mean=[0.485, 0.456, 0.406], std=[0.229, 0.224, 0.225]),\n",
    "        ])\n",
    "        image = Image.open(image_path).convert('RGB')\n",
    "        image = transform(image).unsqueeze(0)\n",
    "        return image\n",
    "\n",
    "    def calculate_metrics(labels, outputs):\n",
    "        # Convert labels to binary\n",
    "        # labels_binary = [1 if label == 'Target' else 0 for label in labels]\n",
    "        # # Convert outputs to binary\n",
    "        # outputs_binary = [1 if output == 'Target' else 0 for output in outputs]\n",
    "        # \n",
    "        \n",
    "        accuracy = accuracy_score(labels, outputs)\n",
    "        precision = precision_score(labels, outputs, average=average)\n",
    "        recall = recall_score(labels, outputs, average=average, zero_division=1)\n",
    "        f1 = f1_score(labels, outputs, average=average)\n",
    "        return accuracy, precision, recall, f1\n",
    "\n",
    "    def save_metrics(accuracy, precision, recall, f1, path):\n",
    "        with open(path, 'w', newline='') as csvfile:\n",
    "            fieldnames = ['test_accuracy', 'test_precision', 'test_recall', 'test_f1']\n",
    "            writer = csv.DictWriter(csvfile, fieldnames=fieldnames)\n",
    "            writer.writeheader()\n",
    "            writer.writerow({\n",
    "                'test_accuracy': test_accuracy,\n",
    "                'test_precision': test_precision,\n",
    "                'test_recall': test_recall,\n",
    "                'test_f1': test_f1\n",
    "            })\n",
    "\n",
    "    # Carica il dispositivo (GPU se disponibile, altrimenti CPU)\n",
    "    if platform.system() == 'Windows':\n",
    "        device = torch.device(\"cuda:0\" if torch.cuda.is_available() else \"cpu\")\n",
    "    else:\n",
    "        device = torch.device(\"mps\" if torch.backends.mps.is_available() else \"cpu\")\n",
    "\n",
    "    # Carica il modello\n",
    "    model = load_model(model_path, device)\n",
    "\n",
    "    # Leggi il CSV\n",
    "    df = pd.read_csv(csv_path)\n",
    "\n",
    "    # Inizializza le liste per le predizioni e i target\n",
    "    predictions = []\n",
    "    targets = []\n",
    "\n",
    "    # Itera attraverso i dati di test e fai previsioni\n",
    "    for index, row in tqdm(df.iterrows(), total=len(df), desc=\"Testing\"):\n",
    "        image_path = row['FilePath']  # Assicurati che il CSV abbia una colonna 'FilePath'\n",
    "        image = process_image(image_path).to(device)\n",
    "\n",
    "        with torch.no_grad():\n",
    "            outputs = model(image)\n",
    "            _, predicted = torch.max(outputs, 1)\n",
    "        \n",
    "        predictions.append(predicted.item())\n",
    "        targets.append(row['Classe'])  # Assicurati che il CSV abbia una colonna 'Classe' con le etichette delle classi\n",
    "\n",
    "    # Converti le etichette delle classi a numeri se necessario\n",
    "    unique_labels = df['Classe'].unique()\n",
    "    label_to_index = {label: index for index, label in enumerate(unique_labels)}\n",
    "    targets = [label_to_index[label] for label in targets]\n",
    "    \n",
    "    test_accuracy, test_precision, test_recall, test_f1 = calculate_metrics(predictions, targets)\n",
    "    \n",
    "    name = model_path.split('/')[1]\n",
    "    save_metrics(test_accuracy, test_precision, test_recall, test_f1, f'test_results/{name}.csv')\n",
    "\n",
    "    # Stampa i risultati\n",
    "    print(f'Accuracy: {test_accuracy:.4f} - Precision: {test_precision:.4f} - Recall: {test_recall:.4f} - F1: {test_f1:.4f}')"
   ],
   "id": "b1a26d161abab775",
   "outputs": [],
   "execution_count": 18
  },
  {
   "metadata": {},
   "cell_type": "markdown",
   "source": "# Test del modello con dataset bilanciato",
   "id": "ac6ac12f8590a579"
  },
  {
   "metadata": {
    "ExecuteTime": {
     "end_time": "2024-06-30T13:14:14.384326Z",
     "start_time": "2024-06-30T13:11:57.738188Z"
    }
   },
   "cell_type": "code",
   "source": "test_model('models/test11_alex_net_one_hot/best_model.pt', 'alexnet', 'weighted')",
   "id": "d2e1f67e18068411",
   "outputs": [
    {
     "name": "stderr",
     "output_type": "stream",
     "text": [
      "Testing: 100%|██████████| 7689/7689 [02:15<00:00, 56.60it/s]"
     ]
    },
    {
     "name": "stdout",
     "output_type": "stream",
     "text": [
      "Accuracy: 0.1275 - Precision: 0.1376 - Recall: 0.1275 - F1: 0.1297\n"
     ]
    },
    {
     "name": "stderr",
     "output_type": "stream",
     "text": [
      "\n"
     ]
    }
   ],
   "execution_count": 19
  },
  {
   "metadata": {},
   "cell_type": "markdown",
   "source": "# Test con dataset sbilanciato",
   "id": "d46054243ac7a76c"
  },
  {
   "metadata": {},
   "cell_type": "markdown",
   "source": "## GoogLeNet",
   "id": "fc6d1460ecd42286"
  },
  {
   "metadata": {
    "ExecuteTime": {
     "end_time": "2024-06-30T13:18:18.755935Z",
     "start_time": "2024-06-30T13:14:14.387314Z"
    }
   },
   "cell_type": "code",
   "source": "test_model('models/test17_google_net_one_hot_unbalanced/best_model.pt', 'googlenet', 'micro')",
   "id": "dc5d33e932047204",
   "outputs": [
    {
     "name": "stderr",
     "output_type": "stream",
     "text": [
      "Testing: 100%|██████████| 7689/7689 [04:03<00:00, 31.53it/s]"
     ]
    },
    {
     "name": "stdout",
     "output_type": "stream",
     "text": [
      "Accuracy: 0.1966 - Precision: 0.1966 - Recall: 0.1966 - F1: 0.1966\n"
     ]
    },
    {
     "name": "stderr",
     "output_type": "stream",
     "text": [
      "\n"
     ]
    }
   ],
   "execution_count": 20
  },
  {
   "metadata": {
    "ExecuteTime": {
     "end_time": "2024-06-30T13:59:18.623282Z",
     "start_time": "2024-06-30T13:55:32.813838Z"
    }
   },
   "cell_type": "code",
   "source": "test_model('models/test18_google_net_one_hot_unbalanced/best_model.pt', 'googlenet', 'weighted')",
   "id": "1a3da722c78bb76e",
   "outputs": [
    {
     "name": "stderr",
     "output_type": "stream",
     "text": [
      "Testing: 100%|██████████| 7689/7689 [03:45<00:00, 34.16it/s]"
     ]
    },
    {
     "name": "stdout",
     "output_type": "stream",
     "text": [
      "Accuracy: 0.2246 - Precision: 0.2326 - Recall: 0.2246 - F1: 0.2262\n"
     ]
    },
    {
     "name": "stderr",
     "output_type": "stream",
     "text": [
      "\n"
     ]
    }
   ],
   "execution_count": 29
  },
  {
   "metadata": {},
   "cell_type": "markdown",
   "source": "## AlexNet",
   "id": "4bcfa2675e3b0dcd"
  },
  {
   "metadata": {
    "ExecuteTime": {
     "end_time": "2024-06-30T13:24:20.006155Z",
     "start_time": "2024-06-30T13:22:04.634958Z"
    }
   },
   "cell_type": "code",
   "source": "test_model('models/test15_alex_net_one_hot_unbalanced/best_model.pt', 'alexnet', 'weighted')",
   "id": "78d2afa7fbaf4be0",
   "outputs": [
    {
     "name": "stderr",
     "output_type": "stream",
     "text": [
      "Testing: 100%|██████████| 7689/7689 [02:14<00:00, 57.27it/s]"
     ]
    },
    {
     "name": "stdout",
     "output_type": "stream",
     "text": [
      "Accuracy: 0.2367 - Precision: 0.2617 - Recall: 0.2367 - F1: 0.2419\n"
     ]
    },
    {
     "name": "stderr",
     "output_type": "stream",
     "text": [
      "\n"
     ]
    }
   ],
   "execution_count": 22
  },
  {
   "metadata": {
    "ExecuteTime": {
     "end_time": "2024-06-30T13:27:48.226880Z",
     "start_time": "2024-06-30T13:25:36.027618Z"
    }
   },
   "cell_type": "code",
   "source": "test_model('models/test16_alex_net_one_hot_unbalanced/best_model.pt', 'alexnet', 'micro')",
   "id": "abffc376071dd38f",
   "outputs": [
    {
     "name": "stderr",
     "output_type": "stream",
     "text": [
      "Testing: 100%|██████████| 7689/7689 [02:11<00:00, 58.56it/s]"
     ]
    },
    {
     "name": "stdout",
     "output_type": "stream",
     "text": [
      "Accuracy: 0.2424 - Precision: 0.2424 - Recall: 0.2424 - F1: 0.2424\n"
     ]
    },
    {
     "name": "stderr",
     "output_type": "stream",
     "text": [
      "\n"
     ]
    }
   ],
   "execution_count": 25
  },
  {
   "metadata": {},
   "cell_type": "markdown",
   "source": "## ResNet50",
   "id": "3f613512fc5a881d"
  },
  {
   "metadata": {
    "ExecuteTime": {
     "end_time": "2024-06-30T13:34:35.534293Z",
     "start_time": "2024-06-30T13:30:48.092642Z"
    }
   },
   "cell_type": "code",
   "source": "test_model('models/test13_res_net_one_hot_unbalanced/best_model.pt', 'resnet50', 'weighted')",
   "id": "b7833fd8ae0fae75",
   "outputs": [
    {
     "name": "stderr",
     "output_type": "stream",
     "text": [
      "Testing: 100%|██████████| 7689/7689 [03:46<00:00, 34.00it/s]"
     ]
    },
    {
     "name": "stdout",
     "output_type": "stream",
     "text": [
      "Accuracy: 0.1630 - Precision: 0.2651 - Recall: 0.1630 - F1: 0.1883\n"
     ]
    },
    {
     "name": "stderr",
     "output_type": "stream",
     "text": [
      "\n"
     ]
    }
   ],
   "execution_count": 27
  },
  {
   "metadata": {
    "ExecuteTime": {
     "end_time": "2024-06-30T13:38:18.219369Z",
     "start_time": "2024-06-30T13:34:35.536806Z"
    }
   },
   "cell_type": "code",
   "source": "test_model('models/test14_res_net_one_hot_unbalanced/best_model.pt', 'resnet50', 'micro')",
   "id": "8700fd19bc7de374",
   "outputs": [
    {
     "name": "stderr",
     "output_type": "stream",
     "text": [
      "Testing: 100%|██████████| 7689/7689 [03:41<00:00, 34.66it/s]"
     ]
    },
    {
     "name": "stdout",
     "output_type": "stream",
     "text": [
      "Accuracy: 0.1857 - Precision: 0.1857 - Recall: 0.1857 - F1: 0.1857\n"
     ]
    },
    {
     "name": "stderr",
     "output_type": "stream",
     "text": [
      "\n"
     ]
    }
   ],
   "execution_count": 28
  }
 ],
 "metadata": {
  "kernelspec": {
   "display_name": "Python 3",
   "language": "python",
   "name": "python3"
  },
  "language_info": {
   "codemirror_mode": {
    "name": "ipython",
    "version": 2
   },
   "file_extension": ".py",
   "mimetype": "text/x-python",
   "name": "python",
   "nbconvert_exporter": "python",
   "pygments_lexer": "ipython2",
   "version": "2.7.6"
  }
 },
 "nbformat": 4,
 "nbformat_minor": 5
}
