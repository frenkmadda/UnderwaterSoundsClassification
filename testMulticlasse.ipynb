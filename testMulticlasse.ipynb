{
 "cells": [
  {
   "metadata": {},
   "cell_type": "code",
   "outputs": [],
   "execution_count": null,
   "source": [
    "import torch\n",
    "import torch.nn as nn\n",
    "import torchvision.transforms as transforms\n",
    "import torchvision.models as models\n",
    "from PIL import Image\n",
    "import pandas as pd\n",
    "from tqdm import tqdm  # Per la barra di caricamento"
   ],
   "id": "c571dc129b04938d"
  },
  {
   "metadata": {
    "ExecuteTime": {
     "end_time": "2024-06-29T18:41:46.823902Z",
     "start_time": "2024-06-29T18:41:38.914307Z"
    }
   },
   "cell_type": "code",
   "source": [
    "def test_model_alexnet(model_path, num_classes=38):\n",
    "    # Percorso al CSV (puoi definirlo qui)\n",
    "    csv_path = 'final_dataset/test/df_paths_test.csv'\n",
    "\n",
    "    # Funzione per caricare il modello\n",
    "    def load_model(model_path, device, num_classes):\n",
    "        model = models.alexnet(pretrained=True)\n",
    "        model.classifier[6] = nn.Linear(model.classifier[6].in_features, num_classes)  # Modifica il classificatore finale\n",
    "        model.load_state_dict(torch.load(model_path, map_location=device))\n",
    "        model.to(device)\n",
    "        model.eval()\n",
    "        return model\n",
    "\n",
    "    # Funzione per caricare un'immagine e applicare le trasformazioni\n",
    "    def process_image(image_path):\n",
    "        transform = transforms.Compose([\n",
    "            transforms.Resize((224, 224)),\n",
    "            transforms.ToTensor(),\n",
    "            transforms.Normalize(mean=[0.485, 0.456, 0.406], std=[0.229, 0.224, 0.225]),\n",
    "        ])\n",
    "        image = Image.open(image_path).convert('RGB')\n",
    "        image = transform(image).unsqueeze(0)\n",
    "        return image\n",
    "\n",
    "    # Funzione per calcolare l'accuratezza\n",
    "    def calculate_accuracy(predictions, targets):\n",
    "        correct = (predictions == targets).sum().item()\n",
    "        total = len(targets)\n",
    "        accuracy = correct / total\n",
    "        return accuracy\n",
    "\n",
    "    # Carica il dispositivo (GPU se disponibile, altrimenti CPU)\n",
    "    device = torch.device('cuda' if torch.cuda.is_available() else 'cpu')\n",
    "\n",
    "    # Carica il modello\n",
    "    model = load_model(model_path, device, num_classes)\n",
    "\n",
    "    # Leggi il CSV\n",
    "    df = pd.read_csv(csv_path)\n",
    "\n",
    "    # Inizializza le liste per le predizioni e i target\n",
    "    predictions = []\n",
    "    targets = []\n",
    "\n",
    "    # Itera attraverso i dati di test e fai previsioni\n",
    "    for index, row in tqdm(df.iterrows(), total=len(df), desc=\"Testing\"):\n",
    "        image_path = row['FilePath']  # Assicurati che il CSV abbia una colonna 'FilePath'\n",
    "        image = process_image(image_path).to(device)\n",
    "\n",
    "        with torch.no_grad():\n",
    "            outputs = model(image)\n",
    "            _, predicted = torch.max(outputs, 1)\n",
    "        \n",
    "        predictions.append(predicted.item())\n",
    "        targets.append(row['Classe'])  # Assicurati che il CSV abbia una colonna 'Classe' con le etichette delle classi\n",
    "\n",
    "    # Converti le etichette delle classi a numeri se necessario\n",
    "    unique_labels = df['Classe'].unique()\n",
    "    label_to_index = {label: index for index, label in enumerate(unique_labels)}\n",
    "    targets = [label_to_index[label] for label in targets]\n",
    "\n",
    "    # Calcola l'accuratezza\n",
    "    accuracy = calculate_accuracy(torch.tensor(predictions), torch.tensor(targets))\n",
    "\n",
    "    # Stampa l'accuratezza\n",
    "    print(f'Accuracy: {accuracy:.4f}')"
   ],
   "id": "20d24d6e59c248da",
   "outputs": [],
   "execution_count": 1
  },
  {
   "metadata": {},
   "cell_type": "markdown",
   "source": "# Primo test del modello AlexNet ",
   "id": "2bfbc0b399757273"
  },
  {
   "metadata": {},
   "cell_type": "code",
   "outputs": [],
   "execution_count": null,
   "source": [
    "model_path = 'models/test11_alex_net_one_hot/checkpoint_epoch_1.pt'\n",
    "test_model_alexnet(model_path)"
   ],
   "id": "91f08e341629da40"
  },
  {
   "metadata": {},
   "cell_type": "markdown",
   "source": "# Primo test del modello ResNet18",
   "id": "9d17c70c2a1d2d63"
  },
  {
   "metadata": {
    "ExecuteTime": {
     "end_time": "2024-06-29T20:10:01.143101Z",
     "start_time": "2024-06-29T20:10:01.110842Z"
    }
   },
   "cell_type": "code",
   "source": [
    "def test_model_resnet(model_path, num_classes=38):\n",
    "    # Percorso al CSV (puoi definirlo qui)\n",
    "    csv_path = 'final_dataset/test/df_paths_test.csv'\n",
    "\n",
    "    # Funzione per caricare il modello\n",
    "    def load_model(model_path, device, num_classes):\n",
    "        model = models.resnet50(pretrained=True)\n",
    "        model.fc = nn.Linear(model.fc.in_features, num_classes)  # Modifica il classificatore finale\n",
    "        model.load_state_dict(torch.load(model_path, map_location=device))\n",
    "        model.to(device)\n",
    "        model.eval()\n",
    "        return model\n",
    "\n",
    "    # Funzione per caricare un'immagine e applicare le trasformazioni\n",
    "    def process_image(image_path):\n",
    "        transform = transforms.Compose([\n",
    "            transforms.Resize((224, 224)),\n",
    "            transforms.ToTensor(),\n",
    "            transforms.Normalize(mean=[0.485, 0.456, 0.406], std=[0.229, 0.224, 0.225]),\n",
    "        ])\n",
    "        image = Image.open(image_path).convert('RGB')\n",
    "        image = transform(image).unsqueeze(0)\n",
    "        return image\n",
    "\n",
    "    # Funzione per calcolare l'accuratezza\n",
    "    def calculate_accuracy(predictions, targets):\n",
    "        correct = (predictions == targets).sum().item()\n",
    "        total = len(targets)\n",
    "        accuracy = correct / total\n",
    "        return accuracy\n",
    "\n",
    "    # Carica il dispositivo (GPU se disponibile, altrimenti CPU)\n",
    "    device = torch.device('cuda' if torch.cuda.is_available() else 'cpu')\n",
    "\n",
    "    # Carica il modello\n",
    "    model = load_model(model_path, device, num_classes)\n",
    "\n",
    "    # Leggi il CSV\n",
    "    df = pd.read_csv(csv_path)\n",
    "\n",
    "    # Inizializza le liste per le predizioni e i target\n",
    "    predictions = []\n",
    "    targets = []\n",
    "\n",
    "    # Itera attraverso i dati di test e fai previsioni\n",
    "    for index, row in tqdm(df.iterrows(), total=len(df), desc=\"Testing\"):\n",
    "        image_path = row['FilePath']  # Assicurati che il CSV abbia una colonna 'FilePath'\n",
    "        image = process_image(image_path).to(device)\n",
    "\n",
    "        with torch.no_grad():\n",
    "            outputs = model(image)\n",
    "            _, predicted = torch.max(outputs, 1)\n",
    "        \n",
    "        predictions.append(predicted.item())\n",
    "        targets.append(row['Classe'])  # Assicurati che il CSV abbia una colonna 'Classe' con le etichette delle classi\n",
    "\n",
    "    # Converti le etichette delle classi a numeri se necessario\n",
    "    unique_labels = df['Classe'].unique()\n",
    "    label_to_index = {label: index for index, label in enumerate(unique_labels)}\n",
    "    targets = [label_to_index[label] for label in targets]\n",
    "\n",
    "    # Calcola l'accuratezza\n",
    "    accuracy = calculate_accuracy(torch.tensor(predictions), torch.tensor(targets))\n",
    "\n",
    "    # Stampa l'accuratezza\n",
    "    print(f'Accuracy: {accuracy:.4f}')"
   ],
   "id": "f951f4df1d4766e5",
   "outputs": [],
   "execution_count": 5
  },
  {
   "metadata": {
    "ExecuteTime": {
     "end_time": "2024-06-29T20:44:22.041333Z",
     "start_time": "2024-06-29T20:10:02.260352Z"
    }
   },
   "cell_type": "code",
   "source": [
    "model_path = 'models/test13_res_net_one_hot/checkpoint_epoch_1.pt'\n",
    "test_model_resnet(model_path)"
   ],
   "id": "263d528ba6c41d44",
   "outputs": [
    {
     "name": "stderr",
     "output_type": "stream",
     "text": [
      "C:\\Users\\gio22\\anaconda3\\envs\\bio\\lib\\site-packages\\torchvision\\models\\_utils.py:223: UserWarning: Arguments other than a weight enum or `None` for 'weights' are deprecated since 0.13 and may be removed in the future. The current behavior is equivalent to passing `weights=ResNet50_Weights.IMAGENET1K_V1`. You can also use `weights=ResNet50_Weights.DEFAULT` to get the most up-to-date weights.\n",
      "  warnings.warn(msg)\n",
      "Downloading: \"https://download.pytorch.org/models/resnet50-0676ba61.pth\" to C:\\Users\\gio22/.cache\\torch\\hub\\checkpoints\\resnet50-0676ba61.pth\n",
      "100%|██████████| 97.8M/97.8M [00:30<00:00, 3.33MB/s]\n",
      "Testing: 100%|██████████| 7689/7689 [33:47<00:00,  3.79it/s]"
     ]
    },
    {
     "name": "stdout",
     "output_type": "stream",
     "text": [
      "Accuracy: 0.1812\n"
     ]
    },
    {
     "name": "stderr",
     "output_type": "stream",
     "text": [
      "\n"
     ]
    }
   ],
   "execution_count": 6
  },
  {
   "metadata": {},
   "cell_type": "markdown",
   "source": "# Secondo test del modello ResNet50",
   "id": "6817c0ee373adf68"
  },
  {
   "metadata": {
    "ExecuteTime": {
     "end_time": "2024-06-29T21:17:29.521859Z",
     "start_time": "2024-06-29T20:47:12.940392Z"
    }
   },
   "cell_type": "code",
   "source": [
    "model_path = 'models/test15_res_net_one_hot_balanced/checkpoint_epoch_1.pt'\n",
    "test_model_resnet(model_path)"
   ],
   "id": "a8660df1076490d9",
   "outputs": [
    {
     "name": "stderr",
     "output_type": "stream",
     "text": [
      "C:\\Users\\gio22\\anaconda3\\envs\\bio\\lib\\site-packages\\torchvision\\models\\_utils.py:208: UserWarning: The parameter 'pretrained' is deprecated since 0.13 and may be removed in the future, please use 'weights' instead.\n",
      "  warnings.warn(\n",
      "C:\\Users\\gio22\\anaconda3\\envs\\bio\\lib\\site-packages\\torchvision\\models\\_utils.py:223: UserWarning: Arguments other than a weight enum or `None` for 'weights' are deprecated since 0.13 and may be removed in the future. The current behavior is equivalent to passing `weights=ResNet50_Weights.IMAGENET1K_V1`. You can also use `weights=ResNet50_Weights.DEFAULT` to get the most up-to-date weights.\n",
      "  warnings.warn(msg)\n",
      "Testing: 100%|██████████| 7689/7689 [30:15<00:00,  4.24it/s] "
     ]
    },
    {
     "name": "stdout",
     "output_type": "stream",
     "text": [
      "Accuracy: 0.1419\n"
     ]
    },
    {
     "name": "stderr",
     "output_type": "stream",
     "text": [
      "\n"
     ]
    }
   ],
   "execution_count": 8
  },
  {
   "metadata": {},
   "cell_type": "code",
   "source": "",
   "id": "6a47a792c5460e88",
   "outputs": [],
   "execution_count": null
  },
  {
   "metadata": {},
   "cell_type": "code",
   "outputs": [],
   "execution_count": null,
   "source": "",
   "id": "7b88623768e1721e"
  }
 ],
 "metadata": {
  "kernelspec": {
   "display_name": "Python 3",
   "language": "python",
   "name": "python3"
  },
  "language_info": {
   "codemirror_mode": {
    "name": "ipython",
    "version": 2
   },
   "file_extension": ".py",
   "mimetype": "text/x-python",
   "name": "python",
   "nbconvert_exporter": "python",
   "pygments_lexer": "ipython2",
   "version": "2.7.6"
  }
 },
 "nbformat": 4,
 "nbformat_minor": 5
}
