{
 "cells": [
  {
   "metadata": {},
   "cell_type": "code",
   "source": [
    "import os\n",
    "import librosa\n",
    "import matplotlib.pyplot as plt\n",
    "import numpy as np\n",
    "import pandas  as pd\n",
    "import utils "
   ],
   "id": "5d5f0819579ee753",
   "outputs": [],
   "execution_count": null
  },
  {
   "metadata": {},
   "cell_type": "markdown",
   "source": "Caricamento dei datasets",
   "id": "e730c81ecb4c2648"
  },
  {
   "cell_type": "code",
   "source": [
    "#Carico i datasets\n",
    "audio_files_target = utils.load_dataset('Dataset/Target')\n",
    "audio_files_nonTarget = utils.load_dataset('Dataset/Non-Target')   "
   ],
   "metadata": {
    "collapsed": false
   },
   "id": "94018e9ecb9130cf",
   "outputs": [],
   "execution_count": null
  },
  {
   "metadata": {},
   "cell_type": "markdown",
   "source": "Estrazione delle frequenze di campionamento e plot delle stesse",
   "id": "8b886b9dd1a5058a"
  },
  {
   "metadata": {},
   "cell_type": "code",
   "source": [
    "#TODO analisi per il resembling shannon Nyquist \n",
    "frequenciesTarget = utils.extractFrequencies(audio_files_target)\n",
    "frequenciesNonTarget = utils.extractFrequencies(audio_files_nonTarget)\n",
    "    \n",
    "min = np.min(frequenciesTarget)\n",
    "max = np.max(frequenciesTarget)\n",
    "\n",
    "print(min, max)\n",
    "\n",
    "min = np.min(frequenciesNonTarget)\n",
    "max = np.max(frequenciesNonTarget)\n",
    "\n",
    "print(min, max)\n",
    "\n",
    "utils.plotFrequencies(frequenciesTarget,frequenciesNonTarget)"
   ],
   "id": "3eefbfa91bbf27ec",
   "outputs": [],
   "execution_count": null
  },
  {
   "metadata": {},
   "cell_type": "markdown",
   "source": "Caricamento dataset nel dataframe",
   "id": "63b6e4c89c19b9a8"
  },
  {
   "metadata": {},
   "cell_type": "code",
   "source": "df_paths, df_names = utils.create_dataframe_from_files(\"Dataset\")",
   "id": "1c51057be21dbeaa",
   "outputs": [],
   "execution_count": null
  },
  {
   "metadata": {},
   "cell_type": "code",
   "source": "df_paths, df_names",
   "id": "bf93921875187c83",
   "outputs": [],
   "execution_count": null
  },
  {
   "metadata": {},
   "cell_type": "markdown",
   "source": "Ricerca ed eliminazione dei duplicati",
   "id": "e347f122cb42d8f7"
  },
  {
   "metadata": {},
   "cell_type": "code",
   "source": [
    "duplicate_indices = utils.find_duplicates(df_names)\n",
    "print(duplicate_indices)"
   ],
   "id": "c54bcc51817541ce",
   "outputs": [],
   "execution_count": null
  },
  {
   "metadata": {},
   "cell_type": "markdown",
   "source": "Salvataggio del dizionario in un file json",
   "id": "e9cd7bafe1f481db"
  },
  {
   "metadata": {},
   "cell_type": "code",
   "source": [
    "import json\n",
    "\n",
    "# Convert the dictionary to a JSON string\n",
    "duplicate_indices_json = json.dumps(duplicate_indices)\n",
    "\n",
    "# Write the JSON string to a file\n",
    "with open('Dataset/duplicate_indices.json', 'w') as f:\n",
    "    f.write(duplicate_indices_json)"
   ],
   "id": "ae32fec745472460",
   "outputs": [],
   "execution_count": null
  },
  {
   "metadata": {},
   "cell_type": "markdown",
   "source": "Eliminazione duplicati",
   "id": "8f34bb2694d53f98"
  },
  {
   "metadata": {},
   "cell_type": "code",
   "source": [
    "# Remove the duplicate rows\n",
    "df_paths, df_names = utils.remove_rows(df_paths, df_names, 'Dataset/duplicate.txt', 'Dataset/df_paths.csv', 'Dataset/df_names.csv')"
   ],
   "id": "2bd8e070574c41ea",
   "outputs": [],
   "execution_count": null
  },
  {
   "metadata": {},
   "cell_type": "code",
   "source": "df_names, df_paths",
   "id": "5413d1a4b2e7adae",
   "outputs": [],
   "execution_count": null
  },
  {
   "metadata": {},
   "cell_type": "code",
   "source": [
    "#TODO dirgli di aggiornare il file di metadata, ci sono 1973 file su 2638\n",
    "# TODO Vedere la frequenza massima di ogni audio,analisi canali e bitrate, e controllare il contenuto di tali frequenze e decidere se continuare ad abbassare il range di frequenze. Cercare di ridurre il più possibile. Secondo benedetto 192Khz.  "
   ],
   "id": "c9c08adb0a8f18a0",
   "outputs": [],
   "execution_count": null
  },
  {
   "metadata": {},
   "cell_type": "markdown",
   "source": "Estrazione delle durate degli audio e plot della distribuzione delle stesse",
   "id": "e3c28271676e75e4"
  },
  {
   "metadata": {},
   "cell_type": "code",
   "source": "audio_durations = utils.extract_durations('Dataset/df_paths.csv')",
   "id": "d1c8d0ee2d5e7297",
   "outputs": [],
   "execution_count": null
  },
  {
   "metadata": {},
   "cell_type": "code",
   "source": "audio_durations",
   "id": "908b879a27a79359",
   "outputs": [],
   "execution_count": null
  },
  {
   "metadata": {
    "ExecuteTime": {
     "end_time": "2024-05-24T10:59:47.192258Z",
     "start_time": "2024-05-24T10:59:46.931966Z"
    }
   },
   "cell_type": "code",
   "source": [
    "max_duration = max(audio_durations)\n",
    "bins = np.arange(0, max_duration + 100, 100)\n",
    "\n",
    "#per aumentare il livello di dettaglio basta mettere bins=auto\n",
    "plt.hist(audio_durations, bins=bins, color='blue', alpha=0.7, rwidth=0.85)\n",
    "plt.grid(axis='y', alpha=0.75)\n",
    "plt.xlabel('Durata audio in secondi')\n",
    "plt.ylabel('Numero di campioni')\n",
    "plt.title('Distribuzione delle durate degli audio')\n",
    "    \n",
    "plt.show()"
   ],
   "id": "3cedd74da6628bb0",
   "outputs": [
    {
     "data": {
      "text/plain": [
       "<Figure size 640x480 with 1 Axes>"
      ],
      "image/png": "[encoded data removed]"
     },
     "metadata": {},
     "output_type": "display_data"
    }
   ],
   "execution_count": 18
  },
  {
   "metadata": {},
   "cell_type": "markdown",
   "source": "Il trim andrebbe fatto intorno ai 750 secondi? La maggior parte dei campioni è distribuita entro quel valore",
   "id": "e3c31ca9d09b88b8"
  }
 ],
 "metadata": {
  "kernelspec": {
   "display_name": "Python 3",
   "language": "python",
   "name": "python3"
  },
  "language_info": {
   "codemirror_mode": {
    "name": "ipython",
    "version": 2
   },
   "file_extension": ".py",
   "mimetype": "text/x-python",
   "name": "python",
   "nbconvert_exporter": "python",
   "pygments_lexer": "ipython2",
   "version": "2.7.6"
  }
 },
 "nbformat": 4,
 "nbformat_minor": 5
}
