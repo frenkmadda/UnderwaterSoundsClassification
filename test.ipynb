{
 "cells": [
  {
   "metadata": {},
   "cell_type": "code",
   "source": [
    "import os\n",
    "import librosa\n",
    "import matplotlib.pyplot as plt\n",
    "import numpy as np\n",
    "import pandas  as pd\n",
    "import utils "
   ],
   "id": "5d5f0819579ee753",
   "outputs": [],
   "execution_count": null
  },
  {
   "metadata": {},
   "cell_type": "markdown",
   "source": "Caricamento dei datasets",
   "id": "e730c81ecb4c2648"
  },
  {
   "cell_type": "code",
   "source": [
    "#Carico i datasets\n",
    "audio_files_target = utils.load_dataset(\"Dataset/Target\")\n",
    "audio_files_nonTarget = utils.load_dataset(\"Dataset/Non-Target\")   "
   ],
   "metadata": {
    "collapsed": false
   },
   "id": "94018e9ecb9130cf",
   "outputs": [],
   "execution_count": null
  },
  {
   "metadata": {},
   "cell_type": "markdown",
   "source": "Estrazione delle frequenze di campionamento e plot delle stesse",
   "id": "8b886b9dd1a5058a"
  },
  {
   "metadata": {},
   "cell_type": "code",
   "source": [
    "#TODO analisi per il resembling shannon Nyquist \n",
    "frequenciesTarget = utils.extractFrequencies(audio_files_target)\n",
    "frequenciesNonTarget = utils.extractFrequencies(audio_files_nonTarget)\n",
    "    \n",
    "min = np.min(frequenciesTarget)\n",
    "max = np.max(frequenciesTarget)\n",
    "\n",
    "print(min, max)\n",
    "\n",
    "min = np.min(frequenciesNonTarget)\n",
    "max = np.max(frequenciesNonTarget)\n",
    "\n",
    "print(min, max)\n",
    "\n",
    "utils.plotFrequencies(frequenciesTarget,frequenciesNonTarget)"
   ],
   "id": "3eefbfa91bbf27ec",
   "outputs": [],
   "execution_count": null
  },
  {
   "metadata": {},
   "cell_type": "code",
   "source": [
    "#TODO eliminare campioni duplicati, non direttamente il file ma da un csv su cui viene caricato il dataset (in un data frame(I duplicati sono in base al nome)). Le operazioni direttamente dal dataframe sono più pulite e veloci. \n",
    "#TODO Fare il caricamento del dataset in un metodo in un py, da includere poi nel notebook per pulizia.\n",
    "# TODO Vedere la frequenza massima di ogni audio e controllare il contenuto di tali frequenze e decidere se continuare ad abbassare il range di frequenze. Cercare di ridurre il più possibile. Secondo benedetto 192Khz.  "
   ],
   "id": "ba7bf54c3184e1da",
   "outputs": [],
   "execution_count": null
  },
  {
   "metadata": {},
   "cell_type": "markdown",
   "source": "Caricamento dataset nel dataframe",
   "id": "63b6e4c89c19b9a8"
  },
  {
   "metadata": {},
   "cell_type": "code",
   "source": "df_paths, df_names = utils.create_dataframe_from_files(\"Dataset\")",
   "id": "1c51057be21dbeaa",
   "outputs": [],
   "execution_count": null
  },
  {
   "metadata": {},
   "cell_type": "code",
   "source": "df_paths, df_names",
   "id": "bf93921875187c83",
   "outputs": [],
   "execution_count": null
  },
  {
   "metadata": {},
   "cell_type": "markdown",
   "source": "Ricerca ed eliminazione dei duplicati",
   "id": "e347f122cb42d8f7"
  },
  {
   "metadata": {},
   "cell_type": "code",
   "source": [
    "duplicate_indices = utils.find_duplicates(df_names)\n",
    "print(duplicate_indices)"
   ],
   "id": "c54bcc51817541ce",
   "outputs": [],
   "execution_count": null
  },
  {
   "metadata": {},
   "cell_type": "markdown",
   "source": "Salvataggio del dizionario in un file json",
   "id": "e9cd7bafe1f481db"
  },
  {
   "metadata": {},
   "cell_type": "code",
   "source": [
    "import json\n",
    "\n",
    "# Convert the dictionary to a JSON string\n",
    "duplicate_indices_json = json.dumps(duplicate_indices)\n",
    "\n",
    "# Write the JSON string to a file\n",
    "with open('Dataset/duplicate_indices.json', 'w') as f:\n",
    "    f.write(duplicate_indices_json)"
   ],
   "id": "ae32fec745472460",
   "outputs": [],
   "execution_count": null
  }
 ],
 "metadata": {
  "kernelspec": {
   "display_name": "Python 3",
   "language": "python",
   "name": "python3"
  },
  "language_info": {
   "codemirror_mode": {
    "name": "ipython",
    "version": 2
   },
   "file_extension": ".py",
   "mimetype": "text/x-python",
   "name": "python",
   "nbconvert_exporter": "python",
   "pygments_lexer": "ipython2",
   "version": "2.7.6"
  }
 },
 "nbformat": 4,
 "nbformat_minor": 5
}
